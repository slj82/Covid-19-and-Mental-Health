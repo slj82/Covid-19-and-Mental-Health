{
 "cells": [
  {
   "cell_type": "markdown",
   "metadata": {},
   "source": [
    "# The Covid-19 Pandemic and Mental Health\n",
    "__________________________________________________________________________________________________________________________________________________________________"
   ]
  },
  {
   "cell_type": "code",
   "execution_count": 116,
   "metadata": {},
   "outputs": [],
   "source": [
    "import pandas as pd\n",
    "import matplotlib.pyplot as plt\n",
    "import seaborn as sns\n",
    "import datetime as dt\n",
    "import numpy as np\n",
    "from sklearn.linear_model import LinearRegression as lr\n",
    "from sklearn.metrics import silhouette_score\n",
    "from sklearn.preprocessing import StandardScaler\n",
    "from sklearn.cluster import KMeans\n",
    "import statsmodels.formula.api as smf\n",
    "from sklearn.model_selection import train_test_split\n",
    "%store -r final_data\n",
    "%store -r master_data"
   ]
  },
  {
   "cell_type": "markdown",
   "metadata": {},
   "source": [
    "## Introduction"
   ]
  },
  {
   "cell_type": "markdown",
   "metadata": {},
   "source": [
    "Given the hardships of the COVID-19 pandemic, not only the virus itself, but the effects of living under all the restrictions of the pandemic, I wanted to explore the effects on mental health and how we can predict increases in anxiety and depression. This will help mental health professionals and government agencies to know when to increase mental health resources and do so before the rates of anxiety and depression spike or get out of control. This saves time, resources, and lives and can increase the overall well being of Americans. Additionally, this could help us navigate mental health in future pandemics and epidemics. I posed the following research question:\n",
    "\n",
    "How do changes in Covid-19 cases, hospitalizations, and deaths affect anxiety and depression in the United States, and how does this differ across states, age groups, and races, or change throughout time as the pandemic progresses?\n",
    "\n",
    "While there is no linear correlation between covid cases/hospitalizations/deaths and levels of anxiety and depression when grouped by state or race, it appears possible to predict with relative accuracy mental health values when the multivariate linear regression model is fit on age group and positive Covid-19 cases. From preliminary data analysis, it appeared that as the pandemic progressed, anxiety and depression rates increased, however upon further exploration, we cannot conclude that there is a linear relationship between time and mental health value. Additionally, when percentage of Covid-19 tests that came back positive and mental health value were used as input variables, 12 distinct clusters of states were found, though there is no obvious explanation for the linkages within each cluster."
   ]
  },
  {
   "cell_type": "markdown",
   "metadata": {},
   "source": [
    "## Data Description"
   ]
  },
  {
   "cell_type": "markdown",
   "metadata": {},
   "source": [
    "Each row in the final data set represents a subgroup of the adult population of the United States in a given time period based on either age, race, or state. The columns represent different measurement markers about each subset of the population within the given time period, including number of positive covid tests, and percent of the subgroup experiencing anxiety and/or depression (labeled as 'Value'). While some of the columns, such as 'state', are self explanatory, others warrant more description. The column \"Value\" contains the percentage of surveyed adults that have reported experiencing symptoms of anxiety or depression in the past week. The columns of Covid data were compiled by *The Atlantic's* The Covid Tracking Project, and based on data reported by the states. This includes both confirmed and probable cases based on the definitions of each state in the new_positives column. Phase corresponds to different rounds of the survey used to conduct the data throughout different points in the pandemic.\n",
    "\n",
    "The mental health dataset was created through the Household survey conducted by the National Center for Household Statistics and the Census Bureau. The survey was an online format that asked participants to rate their symptoms of anxiety and depression from the last 7 days on a scale from 0-3. (0 = no symptoms, 1 = symptoms some days, 2 = symptoms half of the days, 3 = symptoms everyday). The purpose of the data collection was to find information on the mental health impact of the pandemic, although it did not include any covid data (I found and added covid data myself). Because the data was conducted by a survey, there are hindering elements of non-coverage or  non-response errors. Also, there are missing weeks in between phases of data collection. It is unclear if survey participants were aware of what the results of their data would be used for or if they knew there was a connection to covid. If they did, it is reasonable to speculate that they may have had a tendency to report more anxiety and depression symptoms with a pandemic on the forefront of their minds. Preprocessing of this data set included converting survey responses, in which participants rated their symptoms 0-3 into two categories: experienced symptoms in the past 7 days or did not. Then this was turned into a percentage and placed in the \"Value\" section of the datatable as it appeared to the downloader/me. \n",
    "\n",
    "The covid dataset was compiled by *The Atlantic's* The Covid Tracking Project, a volunteer organization whose purpose is to publish information relating to the pandemic for public and/or news consumption. The following are sponsors of this project: Beneficus Foundation, Emerson Collective, the Robert Wood Johnson Foundation, the Rockefeller Foundation, and Patrick J. McGovern Foundation. Because the data is compiled from each state's reports, and each state uses slightly different definitions for what is considered a positive case, and methods of testing, there is opportunity for some discrepancy between states as to what they count as a positive or probable covid case, etc. People are naturally aware that their covid test results are likely to be used in covid statistics, although this is not presumably what is on the forefront of their mind when they are being tested for, hospitalized for, or dying of the coronavirus. They are usually more focused on themselves and their health, and also, whether or not someone is positive for Covid-19 is an objective measure, so final data in this sense is likely unaffected by its collection.\n",
    "\n",
    "The dataset that I used to bring in Covid-19 data for age and race comes from the Centers for Disease Control and Prevention's public use surveillance data created to keep the public informed on the state of the pandemic and how it affects different subgroups of the population. Each row in this data set represents a deidentified patient case of Covid-19 in the United States. For this reason, as you can see in my data cleaning appendix, I had to add cases across each distinct subgroup of the population for each given time period. The columns that I kept were case_month which is the month that the positive result was officially recorded, age group, and race (which I renamed Subgroup), and the number of hospitalizations, cases, and deaths. Since this data was reported to the CDC by a large quantity of individual health departments, mistakes or differences in testing and reporting between health jurisdictions could lead to some cases being reported, while others go unknown. The CDC compiles data submitted by these health jurisdictions on standardized case reporting forms and may remove some data if there are privacy concerns. Similarly to the previous dataset described, patients are likely naturally aware that their case will be used as a Covid-19 statistic. "
   ]
  },
  {
   "cell_type": "markdown",
   "metadata": {},
   "source": [
    "## Data Cleaning"
   ]
  },
  {
   "cell_type": "markdown",
   "metadata": {},
   "source": [
    "An extensive data cleaning section can be found in the data cleaning appendix that is zipped with this file and can also be found in the source code folder that is linked at the bottom of this project."
   ]
  },
  {
   "cell_type": "markdown",
   "metadata": {},
   "source": [
    "## Preregistration Statement"
   ]
  },
  {
   "cell_type": "markdown",
   "metadata": {},
   "source": [
    "### Analysis One: \n",
    "\n",
    "The first model that I will use for analysis is a multivariate linear regression on mental health score values that are grouped by state such that each state has its own regression line. The inputs will be percent positive covid cases, number of hospitalizations, and number of deaths. The reason that I am doing this is because in my preliminary data analysis, there was a correlation coefficient of 0.21 or less between percent positive cases and mental health value, covid hospitalizations and mental health value, and covid deaths and mental health value. However, when I chose a select number of states of which to display mental health values with a boxplot, I noticed that some states had much larger mental health score values than others, so I am interested in seeing how the factor of state may be affecting my overall general linear correlations. If the results are significant, it might point to differences in how the state governments responded to the pandemic, differences in the political affiliations of state's residents, or even reflect overall differences in the general mental health among residents of different states, covid aside. If the results are not significant, it would suggest that there is not a linear relationship between covid cases/deaths/hospitalizations and death based on state. \n",
    "\n",
    "Going off of this, I also plan on running linear regression models not only grouping by state, but also make separate models that group by age and race (each separately). If the results are significant for age, it may suggest that different ages have different susceptibility to mental health concerns perhaps based on their level of stability, developmental state, or the life circumstances that are common for that age group. Also, it is known that the coronavirus affects different age groups differently, so it would be interesting to see if more susceptible age groups also had greater levels of anxiety and depression. If the results are not statistically significant, it could mean that other factors besides age are better predictors of mental health value. If the results for race are statistically significant it could point to differing level of resources in different communities or differences in culture in terms of their approach to mental health. If the race results are not statistically significant, it could mean that there are other factors besides race that are better predictors of mental health value.\n",
    "\n",
    "These models have valuable applications, because if we can predict that there will be higher levels of anxiety and/or depression in a certain area or within a certain population, we can divert resources there as soon as cases/hospitalizations/deaths start to rise rather than responding reactively after evidence of mental health problems become clear. By proactively intervening and providing resources, we can increase wellbeing and decrease the suffering of Americans.\n",
    "\n",
    "### Analysis Two: \n",
    "\n",
    "I am going to do a linear regression with time as the input variable and mental health value as the output value. My preliminary data analysis suggests that there may be a positive linear relationship between phase of covid and level of mental health value. This could be important information because it could suggest that it is other effects of life during a pandemic that causes increased rates of anxiety and depression rather than the actual virus itself (especially if results from analysis one are insignificant). If this is true, it is important because it would suggest that the long-term duration of a pandemic rather than spikes of increased cases/lockdowns is what is most harmful to American mental health. In this case it would make sense for the governments to consider more drastic and stringent shut downs and restrictions, but for shorter periods of time. It would also support the idea of faster vaccine rollout. If it is not statistically significant, it may suggest that continuing restrictions will not be as detrimental to mental health and it is reasonable to focus more on virus spread rather than mental health. \n",
    "\n",
    "### Analysis Three: \n",
    "\n",
    "I will perform a k - means clustering using sklearn and observe which states fall into which clusters. First, I will plot the silhouette score for each possible k (number of clusters) to optimize cluster quality in my model. Then, I will do a k - means clustering model on the state data with predictor variables of percent of positive cases and mental health value as the indicator variables. I will use percent positive cases rather than quantity of new cases to account for differences in state populations that lead to differences in total covid cases. I can evaluate potential similarities between the states within each cluster to identify other possible influences on the link between Covid-19 cases and mental health values. For example, if it seems that the states are grouped by geography, population, or political affiliation, it could help us better predict mental health value in those states just based on cases and geography/population/etc. This can help maximize the efficacy and impact of mental health resources by directing them to the areas that will most need them. If the results are not significant, it could mean that there are no clear differences in the relationship between mental health value and Covid-19 cases (percent positive) between different states, or that each state is very different, and should have its own model. \n"
   ]
  },
  {
   "cell_type": "markdown",
   "metadata": {},
   "source": [
    "## Data Analysis (with evaluation of significance where appropriate)"
   ]
  },
  {
   "cell_type": "markdown",
   "metadata": {},
   "source": [
    "### Exploratory Data Analysis"
   ]
  },
  {
   "cell_type": "code",
   "execution_count": 2,
   "metadata": {},
   "outputs": [
    {
     "name": "stdout",
     "output_type": "stream",
     "text": [
      "Summary for Mental Health Value (percent anxiety/depression)\n",
      "count    5250.000000\n",
      "mean       31.870438\n",
      "std         7.191355\n",
      "min         9.100000\n",
      "25%        26.800000\n",
      "50%        31.800000\n",
      "75%        36.900000\n",
      "max        58.700000\n",
      "Name: Value, dtype: float64\n",
      "\n",
      "Summary for Percent of Positive Tests\n",
      "count    7540.000000\n",
      "mean        0.137000\n",
      "std         3.310214\n",
      "min       -16.130400\n",
      "25%         0.028100\n",
      "50%         0.056950\n",
      "75%         0.106125\n",
      "max       286.372100\n",
      "Name: percent_positive, dtype: float64\n",
      "The reason that there is a negative minimum is because there were a few days with a negative number to compensate for mistakes made in the reporting of the previous day. They are corrected the next day with negative values since this is a cumulative dataset constantly updated\n",
      "\n",
      "Summary for Number of Current Covid Hospitalizations\n",
      "count      7298.000000\n",
      "mean       6644.792546\n",
      "std       16605.051217\n",
      "min           0.000000\n",
      "25%         337.000000\n",
      "50%        1372.000000\n",
      "75%        5732.500000\n",
      "max      289224.000000\n",
      "Name: hospitalized, dtype: float64\n",
      "\n",
      "Summary for Number of Covid Deaths\n",
      "count    7540.000000\n",
      "mean      156.713528\n",
      "std       433.104776\n",
      "min       -37.000000\n",
      "25%         4.000000\n",
      "50%        27.000000\n",
      "75%       128.000000\n",
      "max      7169.000000\n",
      "Name: new_deaths, dtype: float64\n",
      "The reason that there is a negative minimum is because there were a few days with a negative number to compensate for mistakes made in the reporting of the previous day. They are corrected the next day with negative values since this is a cumulative dataset constantly updated\n",
      "\n"
     ]
    }
   ],
   "source": [
    "# I will begin by looking at the individual variables\n",
    "\n",
    "describe_value = master_data.Value.describe()\n",
    "print('Summary for Mental Health Value (percent anxiety/depression)')\n",
    "print(describe_value)\n",
    "print()\n",
    "\n",
    "describe_percent = master_data.percent_positive.describe()\n",
    "print('Summary for Percent of Positive Tests')\n",
    "print(describe_percent)\n",
    "print(\"The reason that there is a negative minimum is because there were a few days with a negative number to compensate for mistakes made in the reporting of the\\\n",
    " previous day. They are corrected the next day with negative values since this is a cumulative dataset constantly updated\")\n",
    "print()\n",
    "\n",
    "describe_hospital = master_data.hospitalized.describe()\n",
    "print('Summary for Number of Current Covid Hospitalizations')\n",
    "print(describe_hospital)\n",
    "print()\n",
    "\n",
    "describe_death = master_data.new_deaths.describe()\n",
    "print('Summary for Number of Covid Deaths')\n",
    "print(describe_death)\n",
    "print(\"The reason that there is a negative minimum is because there were a few days with a negative number to compensate for mistakes made in the reporting of the\\\n",
    " previous day. They are corrected the next day with negative values since this is a cumulative dataset constantly updated\")\n",
    "print()"
   ]
  },
  {
   "cell_type": "code",
   "execution_count": 3,
   "metadata": {},
   "outputs": [
    {
     "data": {
      "image/png": "[encoded data removed]",
      "text/plain": [
       "<Figure size 432x288 with 1 Axes>"
      ]
     },
     "metadata": {
      "needs_background": "light"
     },
     "output_type": "display_data"
    }
   ],
   "source": [
    "# Here are some histograms for the above summaries for easier visualization of the distributions\n",
    "master_data.Value.hist()\n",
    "xlabel = plt.xlabel('% Anxiety/Depression')\n",
    "ylabel = plt.ylabel('frequency')"
   ]
  },
  {
   "cell_type": "markdown",
   "metadata": {},
   "source": [
    "The percent of individuals experiencing anxiety and depression in any given time period is roughly normal with a mean of 31.9% and a range of 49.6%. There was never more than 58.7% or less than 9.1% of individuals suffering from anxiety or depression."
   ]
  },
  {
   "cell_type": "code",
   "execution_count": 4,
   "metadata": {},
   "outputs": [
    {
     "data": {
      "image/png": "[encoded data removed]",
      "text/plain": [
       "<Figure size 432x288 with 1 Axes>"
      ]
     },
     "metadata": {
      "needs_background": "light"
     },
     "output_type": "display_data"
    }
   ],
   "source": [
    "master_data.percent_positive.hist(bins = 2000).set_xlim((0, 1.5))\n",
    "xlabel = plt.xlabel('percent of positive tests')\n",
    "ylabel = plt.ylabel('frequency')"
   ]
  },
  {
   "cell_type": "code",
   "execution_count": 5,
   "metadata": {},
   "outputs": [
    {
     "data": {
      "image/png": "[encoded data removed]",
      "text/plain": [
       "<Figure size 432x288 with 1 Axes>"
      ]
     },
     "metadata": {
      "needs_background": "light"
     },
     "output_type": "display_data"
    }
   ],
   "source": [
    "master_data.hospitalized.hist(bins = 100).set_xlim(0, 120000)\n",
    "xlabel = plt.xlabel('Hospitalized Currently (in time period)')\n",
    "ylabel = plt.ylabel('frequency')"
   ]
  },
  {
   "cell_type": "code",
   "execution_count": 6,
   "metadata": {
    "scrolled": true
   },
   "outputs": [
    {
     "data": {
      "image/png": "[encoded data removed]",
      "text/plain": [
       "<Figure size 432x288 with 1 Axes>"
      ]
     },
     "metadata": {
      "needs_background": "light"
     },
     "output_type": "display_data"
    }
   ],
   "source": [
    "master_data.new_deaths.hist(bins = 60).set_xlim((0, 3000))\n",
    "xlabel = plt.xlabel('deaths in time period')\n",
    "ylabel = plt.ylabel('frequency')"
   ]
  },
  {
   "cell_type": "markdown",
   "metadata": {},
   "source": [
    "The data for percent of positive tests, hospitalizations, and deaths is all heavily right skewed. Possible reasons for this could include lack of surveillance testing (or testing at all) in early months of the pandemic which would mean positive cases were under-represented."
   ]
  },
  {
   "cell_type": "code",
   "execution_count": 7,
   "metadata": {},
   "outputs": [
    {
     "name": "stdout",
     "output_type": "stream",
     "text": [
      "The standard correlation between percent of positive tests and mental health value is 0.17\n",
      "The rank correlation between percent of positive tests and mental health value is 0.32\n"
     ]
    },
    {
     "data": {
      "image/png": "[encoded data removed]",
      "text/plain": [
       "<Figure size 432x288 with 1 Axes>"
      ]
     },
     "metadata": {
      "needs_background": "light"
     },
     "output_type": "display_data"
    }
   ],
   "source": [
    "#In the next few cells, I will explore the correlation between variables\n",
    "print('The standard correlation between percent of positive tests and mental health value is {:.2f}'.format(master_data.percent_positive.corr(method='pearson',other=master_data.Value)))\n",
    "print('The rank correlation between percent of positive tests and mental health value is {:.2f}'.format(master_data.new_positives.corr(method='spearman',other=master_data.Value)))\n",
    "mh_cases_plot = plt.scatter(alpha = 0.3, x = master_data.percent_positive, y=master_data.Value)\n",
    "xlabel = plt.xlabel('Percent of Positive Covid Cases in Time Period')\n",
    "ylabel = plt.ylabel('Mental Health Value')"
   ]
  },
  {
   "cell_type": "code",
   "execution_count": 8,
   "metadata": {},
   "outputs": [
    {
     "name": "stdout",
     "output_type": "stream",
     "text": [
      "The standard correlation between hospitalizations and mental health value is 0.21\n",
      "The rank correlation between hospitalizations and mental health value is 0.28\n"
     ]
    },
    {
     "data": {
      "image/png": "[encoded data removed]",
      "text/plain": [
       "<Figure size 432x288 with 1 Axes>"
      ]
     },
     "metadata": {
      "needs_background": "light"
     },
     "output_type": "display_data"
    }
   ],
   "source": [
    "print('The standard correlation between hospitalizations and mental health value is {:.2f}'.format(master_data.hospitalized.corr(method='pearson',other=master_data.Value)))\n",
    "print('The rank correlation between hospitalizations and mental health value is {:.2f}'.format(master_data.hospitalized.corr(method='spearman',other=master_data.Value)))\n",
    "mh_hospital_plot = plt.scatter(alpha = 0.3, x = master_data.hospitalized, y=master_data.Value)\n",
    "xlabel = plt.xlabel('Current Covid Hospitalizations')\n",
    "ylabel = plt.ylabel('Mental Health Value')"
   ]
  },
  {
   "cell_type": "code",
   "execution_count": 9,
   "metadata": {},
   "outputs": [
    {
     "name": "stdout",
     "output_type": "stream",
     "text": [
      "The standard correlation between deaths and mental health value is 0.17\n",
      "The rank correlation between deaths and mental health value is 0.24\n"
     ]
    },
    {
     "data": {
      "image/png": "[encoded data removed]",
      "text/plain": [
       "<Figure size 432x288 with 1 Axes>"
      ]
     },
     "metadata": {
      "needs_background": "light"
     },
     "output_type": "display_data"
    }
   ],
   "source": [
    "print('The standard correlation between deaths and mental health value is {:.2f}'.format(master_data.new_deaths.corr(method='pearson',other=master_data.Value)))\n",
    "print('The rank correlation between deaths and mental health value is {:.2f}'.format(master_data.new_deaths.corr(method='spearman',other=master_data.Value)))\n",
    "mh_death_plot = plt.scatter(alpha = 0.3, x = master_data.new_deaths, y=master_data.Value)\n",
    "xlabel = plt.xlabel('Covid Deaths')\n",
    "ylabel = plt.ylabel('Mental Health Value')"
   ]
  },
  {
   "cell_type": "markdown",
   "metadata": {},
   "source": [
    "Because there is little to no linear correlation between either percent positive cases, hospitalizations, or deaths and mental health value, it makes me wonder if differences between state, age, race, or other distinction is masking linear correlations that would exist within each one of these groups individually. I will later perform multivariate linear regressions with these different groupings to see. "
   ]
  },
  {
   "cell_type": "code",
   "execution_count": 10,
   "metadata": {},
   "outputs": [
    {
     "data": {
      "image/png": "[encoded data removed]",
      "text/plain": [
       "<Figure size 432x288 with 1 Axes>"
      ]
     },
     "metadata": {
      "needs_background": "light"
     },
     "output_type": "display_data"
    }
   ],
   "source": [
    "mh_time_plot = plt.scatter(alpha = 0.3, x = master_data.time_start, y=master_data.Value)\n",
    "plt.xticks(rotation = 90)\n",
    "xlabel = plt.xlabel('Time')\n",
    "ylabel = plt.ylabel('Mental Health Value')"
   ]
  },
  {
   "cell_type": "code",
   "execution_count": 11,
   "metadata": {
    "scrolled": true
   },
   "outputs": [
    {
     "data": {
      "image/png": "[encoded data removed]",
      "text/plain": [
       "<Figure size 432x288 with 1 Axes>"
      ]
     },
     "metadata": {
      "needs_background": "light"
     },
     "output_type": "display_data"
    }
   ],
   "source": [
    "phasebox = master_data.boxplot(by = 'Phase', column = 'Value')\n",
    "plt.xticks(rotation = 90)\n",
    "xlabel = plt.xlabel('Phase of Covid')\n",
    "ylabel = plt.ylabel('Mental Health Data')"
   ]
  },
  {
   "cell_type": "markdown",
   "metadata": {},
   "source": [
    "It appears that there may be an upward trend in anxiety and depression rates as the pandemic progresses through the different phases. This suggests that it may be the effects of life and restrictions in a pandmeic that causes increased rates of anxiety and depression rather than the actual virus itself. I will later perfom a linear regression on phase to predict mental health value, to see if such a correlation is valid."
   ]
  },
  {
   "cell_type": "code",
   "execution_count": 12,
   "metadata": {
    "scrolled": true
   },
   "outputs": [
    {
     "data": {
      "image/png": "[encoded data removed]",
      "text/plain": [
       "<Figure size 432x288 with 1 Axes>"
      ]
     },
     "metadata": {
      "needs_background": "light"
     },
     "output_type": "display_data"
    }
   ],
   "source": [
    "#Below are some boxplots for \"important\" states such as NY, FL, and CA who contain large portions of the population and have been in the news for covid at different\n",
    "# points. I also included CT, ND, and HI for variety. \n",
    "substate = master_data[(master_data.state=='New York')|(master_data.state=='Florida')|(master_data.state=='California')|(master_data.state=='Connecticut')|(master_data.state=='North Dakota')|(master_data.state=='Hawaii')]\n",
    "statebox = substate.boxplot(by = 'state', column = 'Value')"
   ]
  },
  {
   "cell_type": "markdown",
   "metadata": {},
   "source": [
    "I find it interesting to note that the so called \"problem states\" (FL, CA, NY), which have been prominent in the news during different parts of the pandemic, have higher median levels of anxiety and depression than the others. This makes me wonder if analyzing that states seperately, or trying to cluster by states would show more of a correlation than the first scatterplot in this section, which showed little to no correlation between Covid-19 prevalence and mental health value. Perhaps different states have different models that work best for them."
   ]
  },
  {
   "cell_type": "code",
   "execution_count": 108,
   "metadata": {
    "scrolled": true
   },
   "outputs": [
    {
     "data": {
      "image/png": "[encoded data removed]",
      "text/plain": [
       "<Figure size 432x288 with 1 Axes>"
      ]
     },
     "metadata": {
      "needs_background": "light"
     },
     "output_type": "display_data"
    }
   ],
   "source": [
    "final_data_race['Subgroup'].value_counts().plot(kind='bar');\n",
    "plt.title('Distribution of Races in Race Data');\n",
    "plt.xlabel('Race');\n",
    "plt.ylabel('Count');"
   ]
  },
  {
   "cell_type": "markdown",
   "metadata": {},
   "source": [
    "The race categories are equally represented in our data, however, this is not representative of our population. Because of this, we will have to be careful when making conclusions based on the race data."
   ]
  },
  {
   "cell_type": "markdown",
   "metadata": {},
   "source": [
    "### Multivariate Linear Regression by State"
   ]
  },
  {
   "cell_type": "code",
   "execution_count": 13,
   "metadata": {
    "scrolled": true
   },
   "outputs": [
    {
     "data": {
      "text/html": [
       "<div>\n",
       "<style scoped>\n",
       "    .dataframe tbody tr th:only-of-type {\n",
       "        vertical-align: middle;\n",
       "    }\n",
       "\n",
       "    .dataframe tbody tr th {\n",
       "        vertical-align: top;\n",
       "    }\n",
       "\n",
       "    .dataframe thead th {\n",
       "        text-align: right;\n",
       "    }\n",
       "</style>\n",
       "<table border=\"1\" class=\"dataframe\">\n",
       "  <thead>\n",
       "    <tr style=\"text-align: right;\">\n",
       "      <th></th>\n",
       "      <th>Indicator</th>\n",
       "      <th>Group</th>\n",
       "      <th>state</th>\n",
       "      <th>Subgroup</th>\n",
       "      <th>Phase</th>\n",
       "      <th>period</th>\n",
       "      <th>Time Period Label</th>\n",
       "      <th>time_start</th>\n",
       "      <th>time_end</th>\n",
       "      <th>Value</th>\n",
       "      <th>Low CI</th>\n",
       "      <th>High CI</th>\n",
       "      <th>new_deaths</th>\n",
       "      <th>hospitalized</th>\n",
       "      <th>new_positives</th>\n",
       "      <th>new_tests</th>\n",
       "      <th>percent_positive</th>\n",
       "    </tr>\n",
       "  </thead>\n",
       "  <tbody>\n",
       "    <tr>\n",
       "      <th>18</th>\n",
       "      <td>Symptoms of Depressive Disorder</td>\n",
       "      <td>By State</td>\n",
       "      <td>Alabama</td>\n",
       "      <td>Alabama</td>\n",
       "      <td>1</td>\n",
       "      <td>1.0</td>\n",
       "      <td>Apr 23 - May 5</td>\n",
       "      <td>2020-04-23</td>\n",
       "      <td>2020-05-05</td>\n",
       "      <td>18.6</td>\n",
       "      <td>14.6</td>\n",
       "      <td>23.1</td>\n",
       "      <td>119.0</td>\n",
       "      <td>5884.0</td>\n",
       "      <td>2820.0</td>\n",
       "      <td>58006.0</td>\n",
       "      <td>0.0486</td>\n",
       "    </tr>\n",
       "    <tr>\n",
       "      <th>19</th>\n",
       "      <td>Symptoms of Anxiety Disorder</td>\n",
       "      <td>By State</td>\n",
       "      <td>Alabama</td>\n",
       "      <td>Alabama</td>\n",
       "      <td>1</td>\n",
       "      <td>1.0</td>\n",
       "      <td>Apr 23 - May 5</td>\n",
       "      <td>2020-04-23</td>\n",
       "      <td>2020-05-05</td>\n",
       "      <td>25.6</td>\n",
       "      <td>20.7</td>\n",
       "      <td>30.9</td>\n",
       "      <td>119.0</td>\n",
       "      <td>5884.0</td>\n",
       "      <td>2820.0</td>\n",
       "      <td>58006.0</td>\n",
       "      <td>0.0486</td>\n",
       "    </tr>\n",
       "    <tr>\n",
       "      <th>20</th>\n",
       "      <td>Symptoms of Anxiety Disorder or Depressive Dis...</td>\n",
       "      <td>By State</td>\n",
       "      <td>Alabama</td>\n",
       "      <td>Alabama</td>\n",
       "      <td>1</td>\n",
       "      <td>1.0</td>\n",
       "      <td>Apr 23 - May 5</td>\n",
       "      <td>2020-04-23</td>\n",
       "      <td>2020-05-05</td>\n",
       "      <td>30.3</td>\n",
       "      <td>24.8</td>\n",
       "      <td>36.2</td>\n",
       "      <td>119.0</td>\n",
       "      <td>5884.0</td>\n",
       "      <td>2820.0</td>\n",
       "      <td>58006.0</td>\n",
       "      <td>0.0486</td>\n",
       "    </tr>\n",
       "    <tr>\n",
       "      <th>21</th>\n",
       "      <td>Symptoms of Depressive Disorder</td>\n",
       "      <td>By State</td>\n",
       "      <td>Alaska</td>\n",
       "      <td>Alaska</td>\n",
       "      <td>1</td>\n",
       "      <td>1.0</td>\n",
       "      <td>Apr 23 - May 5</td>\n",
       "      <td>2020-04-23</td>\n",
       "      <td>2020-05-05</td>\n",
       "      <td>19.2</td>\n",
       "      <td>16.8</td>\n",
       "      <td>21.8</td>\n",
       "      <td>0.0</td>\n",
       "      <td>255.0</td>\n",
       "      <td>36.0</td>\n",
       "      <td>10533.0</td>\n",
       "      <td>0.0034</td>\n",
       "    </tr>\n",
       "    <tr>\n",
       "      <th>22</th>\n",
       "      <td>Symptoms of Anxiety Disorder</td>\n",
       "      <td>By State</td>\n",
       "      <td>Alaska</td>\n",
       "      <td>Alaska</td>\n",
       "      <td>1</td>\n",
       "      <td>1.0</td>\n",
       "      <td>Apr 23 - May 5</td>\n",
       "      <td>2020-04-23</td>\n",
       "      <td>2020-05-05</td>\n",
       "      <td>27.7</td>\n",
       "      <td>24.8</td>\n",
       "      <td>30.7</td>\n",
       "      <td>0.0</td>\n",
       "      <td>255.0</td>\n",
       "      <td>36.0</td>\n",
       "      <td>10533.0</td>\n",
       "      <td>0.0034</td>\n",
       "    </tr>\n",
       "    <tr>\n",
       "      <th>...</th>\n",
       "      <td>...</td>\n",
       "      <td>...</td>\n",
       "      <td>...</td>\n",
       "      <td>...</td>\n",
       "      <td>...</td>\n",
       "      <td>...</td>\n",
       "      <td>...</td>\n",
       "      <td>...</td>\n",
       "      <td>...</td>\n",
       "      <td>...</td>\n",
       "      <td>...</td>\n",
       "      <td>...</td>\n",
       "      <td>...</td>\n",
       "      <td>...</td>\n",
       "      <td>...</td>\n",
       "      <td>...</td>\n",
       "      <td>...</td>\n",
       "    </tr>\n",
       "    <tr>\n",
       "      <th>4306</th>\n",
       "      <td>Symptoms of Anxiety Disorder</td>\n",
       "      <td>By State</td>\n",
       "      <td>Wisconsin</td>\n",
       "      <td>Wisconsin</td>\n",
       "      <td>3 (Jan 6 � Mar 1)</td>\n",
       "      <td>25.0</td>\n",
       "      <td>Feb 17 - Mar 1</td>\n",
       "      <td>2021-02-17</td>\n",
       "      <td>2021-03-01</td>\n",
       "      <td>26.4</td>\n",
       "      <td>22.4</td>\n",
       "      <td>30.6</td>\n",
       "      <td>226.0</td>\n",
       "      <td>4451.0</td>\n",
       "      <td>9282.0</td>\n",
       "      <td>390079.0</td>\n",
       "      <td>0.0238</td>\n",
       "    </tr>\n",
       "    <tr>\n",
       "      <th>4307</th>\n",
       "      <td>Symptoms of Anxiety Disorder or Depressive Dis...</td>\n",
       "      <td>By State</td>\n",
       "      <td>Wisconsin</td>\n",
       "      <td>Wisconsin</td>\n",
       "      <td>3 (Jan 6 � Mar 1)</td>\n",
       "      <td>25.0</td>\n",
       "      <td>Feb 17 - Mar 1</td>\n",
       "      <td>2021-02-17</td>\n",
       "      <td>2021-03-01</td>\n",
       "      <td>30.4</td>\n",
       "      <td>26.4</td>\n",
       "      <td>34.6</td>\n",
       "      <td>226.0</td>\n",
       "      <td>4451.0</td>\n",
       "      <td>9282.0</td>\n",
       "      <td>390079.0</td>\n",
       "      <td>0.0238</td>\n",
       "    </tr>\n",
       "    <tr>\n",
       "      <th>4308</th>\n",
       "      <td>Symptoms of Depressive Disorder</td>\n",
       "      <td>By State</td>\n",
       "      <td>Wyoming</td>\n",
       "      <td>Wyoming</td>\n",
       "      <td>3 (Jan 6 � Mar 1)</td>\n",
       "      <td>25.0</td>\n",
       "      <td>Feb 17 - Mar 1</td>\n",
       "      <td>2021-02-17</td>\n",
       "      <td>2021-03-01</td>\n",
       "      <td>28.3</td>\n",
       "      <td>22.4</td>\n",
       "      <td>34.8</td>\n",
       "      <td>9.0</td>\n",
       "      <td>346.0</td>\n",
       "      <td>1120.0</td>\n",
       "      <td>26238.0</td>\n",
       "      <td>0.0427</td>\n",
       "    </tr>\n",
       "    <tr>\n",
       "      <th>4309</th>\n",
       "      <td>Symptoms of Anxiety Disorder</td>\n",
       "      <td>By State</td>\n",
       "      <td>Wyoming</td>\n",
       "      <td>Wyoming</td>\n",
       "      <td>3 (Jan 6 � Mar 1)</td>\n",
       "      <td>25.0</td>\n",
       "      <td>Feb 17 - Mar 1</td>\n",
       "      <td>2021-02-17</td>\n",
       "      <td>2021-03-01</td>\n",
       "      <td>33.2</td>\n",
       "      <td>27.1</td>\n",
       "      <td>39.8</td>\n",
       "      <td>9.0</td>\n",
       "      <td>346.0</td>\n",
       "      <td>1120.0</td>\n",
       "      <td>26238.0</td>\n",
       "      <td>0.0427</td>\n",
       "    </tr>\n",
       "    <tr>\n",
       "      <th>4310</th>\n",
       "      <td>Symptoms of Anxiety Disorder or Depressive Dis...</td>\n",
       "      <td>By State</td>\n",
       "      <td>Wyoming</td>\n",
       "      <td>Wyoming</td>\n",
       "      <td>3 (Jan 6 � Mar 1)</td>\n",
       "      <td>25.0</td>\n",
       "      <td>Feb 17 - Mar 1</td>\n",
       "      <td>2021-02-17</td>\n",
       "      <td>2021-03-01</td>\n",
       "      <td>38.1</td>\n",
       "      <td>31.8</td>\n",
       "      <td>44.6</td>\n",
       "      <td>9.0</td>\n",
       "      <td>346.0</td>\n",
       "      <td>1120.0</td>\n",
       "      <td>26238.0</td>\n",
       "      <td>0.0427</td>\n",
       "    </tr>\n",
       "  </tbody>\n",
       "</table>\n",
       "<p>3750 rows × 17 columns</p>\n",
       "</div>"
      ],
      "text/plain": [
       "                                              Indicator     Group      state  \\\n",
       "18                      Symptoms of Depressive Disorder  By State    Alabama   \n",
       "19                         Symptoms of Anxiety Disorder  By State    Alabama   \n",
       "20    Symptoms of Anxiety Disorder or Depressive Dis...  By State    Alabama   \n",
       "21                      Symptoms of Depressive Disorder  By State     Alaska   \n",
       "22                         Symptoms of Anxiety Disorder  By State     Alaska   \n",
       "...                                                 ...       ...        ...   \n",
       "4306                       Symptoms of Anxiety Disorder  By State  Wisconsin   \n",
       "4307  Symptoms of Anxiety Disorder or Depressive Dis...  By State  Wisconsin   \n",
       "4308                    Symptoms of Depressive Disorder  By State    Wyoming   \n",
       "4309                       Symptoms of Anxiety Disorder  By State    Wyoming   \n",
       "4310  Symptoms of Anxiety Disorder or Depressive Dis...  By State    Wyoming   \n",
       "\n",
       "       Subgroup              Phase  period Time Period Label time_start  \\\n",
       "18      Alabama                  1     1.0    Apr 23 - May 5 2020-04-23   \n",
       "19      Alabama                  1     1.0    Apr 23 - May 5 2020-04-23   \n",
       "20      Alabama                  1     1.0    Apr 23 - May 5 2020-04-23   \n",
       "21       Alaska                  1     1.0    Apr 23 - May 5 2020-04-23   \n",
       "22       Alaska                  1     1.0    Apr 23 - May 5 2020-04-23   \n",
       "...         ...                ...     ...               ...        ...   \n",
       "4306  Wisconsin  3 (Jan 6 � Mar 1)    25.0    Feb 17 - Mar 1 2021-02-17   \n",
       "4307  Wisconsin  3 (Jan 6 � Mar 1)    25.0    Feb 17 - Mar 1 2021-02-17   \n",
       "4308    Wyoming  3 (Jan 6 � Mar 1)    25.0    Feb 17 - Mar 1 2021-02-17   \n",
       "4309    Wyoming  3 (Jan 6 � Mar 1)    25.0    Feb 17 - Mar 1 2021-02-17   \n",
       "4310    Wyoming  3 (Jan 6 � Mar 1)    25.0    Feb 17 - Mar 1 2021-02-17   \n",
       "\n",
       "       time_end  Value  Low CI  High CI  new_deaths  hospitalized  \\\n",
       "18   2020-05-05   18.6    14.6     23.1       119.0        5884.0   \n",
       "19   2020-05-05   25.6    20.7     30.9       119.0        5884.0   \n",
       "20   2020-05-05   30.3    24.8     36.2       119.0        5884.0   \n",
       "21   2020-05-05   19.2    16.8     21.8         0.0         255.0   \n",
       "22   2020-05-05   27.7    24.8     30.7         0.0         255.0   \n",
       "...         ...    ...     ...      ...         ...           ...   \n",
       "4306 2021-03-01   26.4    22.4     30.6       226.0        4451.0   \n",
       "4307 2021-03-01   30.4    26.4     34.6       226.0        4451.0   \n",
       "4308 2021-03-01   28.3    22.4     34.8         9.0         346.0   \n",
       "4309 2021-03-01   33.2    27.1     39.8         9.0         346.0   \n",
       "4310 2021-03-01   38.1    31.8     44.6         9.0         346.0   \n",
       "\n",
       "      new_positives  new_tests  percent_positive  \n",
       "18           2820.0    58006.0            0.0486  \n",
       "19           2820.0    58006.0            0.0486  \n",
       "20           2820.0    58006.0            0.0486  \n",
       "21             36.0    10533.0            0.0034  \n",
       "22             36.0    10533.0            0.0034  \n",
       "...             ...        ...               ...  \n",
       "4306         9282.0   390079.0            0.0238  \n",
       "4307         9282.0   390079.0            0.0238  \n",
       "4308         1120.0    26238.0            0.0427  \n",
       "4309         1120.0    26238.0            0.0427  \n",
       "4310         1120.0    26238.0            0.0427  \n",
       "\n",
       "[3750 rows x 17 columns]"
      ]
     },
     "execution_count": 13,
     "metadata": {},
     "output_type": "execute_result"
    }
   ],
   "source": [
    "multi_model_state = lr()\n",
    "final_data_state = final_data[final_data.Group == 'By State'].drop(columns = ['case_month']).dropna()\n",
    "final_data_state"
   ]
  },
  {
   "cell_type": "code",
   "execution_count": 14,
   "metadata": {},
   "outputs": [
    {
     "name": "stdout",
     "output_type": "stream",
     "text": [
      "The coefficient for new_deaths is -0.00108\n",
      "The coefficient for hospitalized is 7.81e-05\n",
      "The coefficient for percent_positive is 12.8\n",
      "The r-squared score of this multivariable linear regression model is 0.06\n"
     ]
    }
   ],
   "source": [
    "predictors = ['new_deaths', 'hospitalized', 'percent_positive']\n",
    "multi_model_state.fit(X = final_data_state[predictors], y = final_data_state.Value)\n",
    "\n",
    "for featurenum in range(len(predictors)):\n",
    "    print('The coefficient for {} is {:.3}'.format(predictors[featurenum],multi_model_state.coef_[featurenum]))\n",
    "print('The r-squared score of this multivariable linear regression model is {:.2f}'.format(multi_model_state.score(final_data_state[predictors], final_data_state.Value)))"
   ]
  },
  {
   "cell_type": "markdown",
   "metadata": {},
   "source": [
    "While I cannot graph the above multivariate regression, because it is in 4 dimensions, below is a two dimensional scatterplot with just percent positive cases and mental health value colored by state for visualization. Beacuse there are so many states that it would be hard to visualize on one graph, I have chosen the first 5 alphabetical states to display. This plot allows us to see that the lack of correlation for some states, and the almost vertical line correlation for other states, which shows a tendency for a certain percent positive range and a range of mental health values at that rate, rather than a linear relationship between the two. Thus, it makes sense visually that we do not see a strong correlation coefficient in our multivariate model."
   ]
  },
  {
   "cell_type": "code",
   "execution_count": 15,
   "metadata": {},
   "outputs": [
    {
     "data": {
      "image/png": "[encoded data removed]",
      "text/plain": [
       "<Figure size 443.75x360 with 1 Axes>"
      ]
     },
     "metadata": {
      "needs_background": "light"
     },
     "output_type": "display_data"
    }
   ],
   "source": [
    "visual_model = lr().fit(final_data_state[ ['percent_positive'] ], final_data_state['Value'])\n",
    "\n",
    "final_state_5 = final_data_state[(final_data_state.state=='Alabama') | \\\n",
    "                                (final_data_state.state=='Alaska') | \\\n",
    "                                (final_data_state.state=='Arizona') | \\\n",
    "                                (final_data_state.state=='Arkansas') | \\\n",
    "                                (final_data_state.state=='California')]\n",
    "sns.relplot(x = 'percent_positive', y = 'Value', data = final_state_5, hue = 'state');"
   ]
  },
  {
   "cell_type": "markdown",
   "metadata": {},
   "source": [
    "Since there does not appear to be a linear correlation when Covid-19 metrics (cases/hospitalizations/deaths) and state are indicator variables used to predict mental health value, I can tell just by the r-squared value that the results are not significant, therefore there is no need for further significance tests. "
   ]
  },
  {
   "cell_type": "markdown",
   "metadata": {},
   "source": [
    "### Single and Multivariate Linear Regression by Age"
   ]
  },
  {
   "cell_type": "code",
   "execution_count": 117,
   "metadata": {
    "scrolled": true
   },
   "outputs": [],
   "source": [
    "final_data_age = final_data[final_data.Group == 'By Age']"
   ]
  },
  {
   "cell_type": "code",
   "execution_count": 118,
   "metadata": {
    "scrolled": true
   },
   "outputs": [
    {
     "name": "stdout",
     "output_type": "stream",
     "text": [
      "Regression slope for age group '18 - 49' is 0.000214\n",
      "r-squared score value for age group '18 - 49' is 0.35\n",
      "Regression slope for age group '50+' is 3.53e-05\n",
      "r-squared score value for age group '50+' is 0.479\n"
     ]
    },
    {
     "data": {
      "image/png": "[encoded data removed]",
      "text/plain": [
       "<Figure size 432x288 with 1 Axes>"
      ]
     },
     "metadata": {
      "needs_background": "light"
     },
     "output_type": "display_data"
    }
   ],
   "source": [
    "sns.scatterplot(data=final_data_age, x = 'hospitalized', y='Value', hue = 'Subgroup')\n",
    "\n",
    "for age in final_data_age['Subgroup'].unique():\n",
    "\n",
    "    final_data_age_subset = final_data_age[final_data_age.Subgroup == age]\n",
    "    hospitalized_age = lr().fit(final_data_age_subset[['hospitalized']], final_data_age_subset['Value']);\n",
    "   \n",
    "    plt.plot(final_data_age_subset['hospitalized'], hospitalized_age.predict(final_data_age_subset[['hospitalized']]))\n",
    "    print(\"Regression slope for age group \\'{}' is {:.3}\".format(age, hospitalized_age.coef_[0]))\n",
    "    print(\"r-squared score value for age group \\'{}' is {:.3}\"\\\n",
    "          .format(age,hospitalized_age.score(final_data_age_subset[['hospitalized']], final_data_age_subset['Value'])))"
   ]
  },
  {
   "cell_type": "code",
   "execution_count": 119,
   "metadata": {},
   "outputs": [
    {
     "name": "stdout",
     "output_type": "stream",
     "text": [
      "Regression slope for age group '18 - 49' is 0.0019\n",
      "r-squared score value for age group '18 - 49' is 0.0487\n",
      "Regression slope for age group '50+' is 4.21e-05\n",
      "r-squared score value for age group '50+' is 0.159\n"
     ]
    },
    {
     "data": {
      "image/png": "[encoded data removed]",
      "text/plain": [
       "<Figure size 432x288 with 1 Axes>"
      ]
     },
     "metadata": {
      "needs_background": "light"
     },
     "output_type": "display_data"
    }
   ],
   "source": [
    "sns.scatterplot(data=final_data_age, x = 'new_deaths', y='Value', hue = 'Subgroup')\n",
    "\n",
    "for age in final_data_age['Subgroup'].unique():\n",
    "    \n",
    "    final_data_age_subset = final_data_age[final_data_age.Subgroup == age]\n",
    "    deaths_age = lr().fit(final_data_age_subset[['new_deaths']], final_data_age_subset['Value']);\n",
    "   \n",
    "    plt.plot(final_data_age_subset['new_deaths'], deaths_age.predict(final_data_age_subset[['new_deaths']]))\n",
    "    \n",
    "    print(\"Regression slope for age group \\'{}' is {:.3}\".format(age, deaths_age.coef_[0]))\n",
    "    print(\"r-squared score value for age group \\'{}' is {:.3}\"\\\n",
    "          .format(age, deaths_age.score(final_data_age_subset[['new_deaths']], final_data_age_subset['Value'])))"
   ]
  },
  {
   "cell_type": "code",
   "execution_count": 120,
   "metadata": {},
   "outputs": [
    {
     "name": "stdout",
     "output_type": "stream",
     "text": [
      "Regression slope for age group '18 - 49' is 3.44e-06\n",
      "r-squared score value for age group '18 - 49' is 0.76\n",
      "Regression slope for age group '50+' is 3.32e-06\n",
      "r-squared score value for age group '50+' is 0.752\n"
     ]
    },
    {
     "data": {
      "image/png": "[encoded data removed]",
      "text/plain": [
       "<Figure size 432x288 with 1 Axes>"
      ]
     },
     "metadata": {
      "needs_background": "light"
     },
     "output_type": "display_data"
    }
   ],
   "source": [
    "sns.scatterplot(data=final_data_age, x = 'new_positives', y='Value', hue = 'Subgroup')\n",
    "\n",
    "for age in final_data_age['Subgroup'].unique():\n",
    "\n",
    "    final_data_age_subset = final_data_age[final_data_age.Subgroup == age]\n",
    "    positives_age = lr().fit(final_data_age_subset[['new_positives']], final_data_age_subset['Value']);\n",
    "   \n",
    "    plt.plot(final_data_age_subset['new_positives'], positives_age.predict(final_data_age_subset[['new_positives']]))\n",
    "    print(\"Regression slope for age group \\'{}' is {:.3}\".format(age, positives_age.coef_[0]))\n",
    "    print(\"r-squared score value for age group \\'{}' is {:.3}\"\\\n",
    "          .format(age,positives_age.score(final_data_age_subset[['new_positives']], final_data_age_subset['Value'])))"
   ]
  },
  {
   "cell_type": "markdown",
   "metadata": {},
   "source": [
    "The above three linear regression graphs seem to suggest that the two different age groups (18-49 and 50+) each have their own linear model rather than having the same correlations shifted up or down. The highest r squared value for any of the above models is 0.752 so I will see if a multivariate model works better. "
   ]
  },
  {
   "cell_type": "code",
   "execution_count": 121,
   "metadata": {},
   "outputs": [],
   "source": [
    "final_data_age = final_data_age.copy()\n",
    "final_data_age['is_young'] = pd.get_dummies(final_data_age['Subgroup'])['18 - 49']\n",
    "final_data_age['is_old'] = pd.get_dummies(final_data_age['Subgroup'])['50+']"
   ]
  },
  {
   "cell_type": "code",
   "execution_count": 122,
   "metadata": {},
   "outputs": [
    {
     "name": "stdout",
     "output_type": "stream",
     "text": [
      "The coefficient for new_positives is 3.26e-06\n",
      "The coefficient for new_deaths is -5.28e-05\n",
      "The coefficient for hospitalized is 2.02e-05\n",
      "The coefficient for is_young is 7.08\n",
      "The coefficient for is_old is -7.08\n",
      "The r-squared score of this multivariable linear regression model is 0.98\n"
     ]
    }
   ],
   "source": [
    "multi_model_age = lr()\n",
    "\n",
    "predictors = ['new_positives', 'new_deaths', 'hospitalized', 'is_young', 'is_old']\n",
    "multi_model_age.fit(X = final_data_age[predictors], y = final_data_age.Value)\n",
    "\n",
    "for featurenum in range(len(predictors)):\n",
    "    print('The coefficient for {} is {:.3}'.format(predictors[featurenum],multi_model_age.coef_[featurenum]))\n",
    "print('The r-squared score of this multivariable linear regression model is {:.2f}'.format(multi_model_age.score(final_data_age[predictors], final_data_age.Value)))\n"
   ]
  },
  {
   "cell_type": "markdown",
   "metadata": {},
   "source": [
    "A $r^2$ value of 0.98 is the highest I have seen on any analyses thus far and suggests a strong linear relationship when the indicator variables of age group and Covid-19 cases, hospitalizations, and deaths are used to predict mental health values. I will perform a hypothesis test for the above coefficients in order to further test the significance of this finding."
   ]
  },
  {
   "cell_type": "markdown",
   "metadata": {},
   "source": [
    "We want to test the following hypotheses at the alpha = 0.05 significance level. These null hypotheses assume that there is zero relationship.\n",
    "\n",
    "new_positives:                                                     \n",
    "\n",
    "$H_0$:  $\\mu$ = 0             \n",
    "\n",
    "$H_p$:  $\\mu$ $\\neq$ 0                         \n",
    "\n",
    "\n",
    "\n",
    "hospitalizations: \n",
    "\n",
    "$H_0$:  $\\mu$ = 0 \n",
    "\n",
    "$H_p$:  $\\mu$ $\\neq$ 0\n",
    "\n",
    "\n",
    "\n",
    "new_cases:\n",
    "\n",
    "$H_0$:  $\\mu$ = 0\n",
    "\n",
    "$H_p$:  $\\mu$ $\\neq$ 0"
   ]
  },
  {
   "cell_type": "code",
   "execution_count": 123,
   "metadata": {
    "scrolled": true
   },
   "outputs": [
    {
     "name": "stdout",
     "output_type": "stream",
     "text": [
      "P values:\n"
     ]
    },
    {
     "data": {
      "text/plain": [
       "Intercept    1.429872e-18\n",
       "x[0]         1.417606e-04\n",
       "x[1]         4.042744e-01\n",
       "x[2]         5.589010e-01\n",
       "dtype: float64"
      ]
     },
     "metadata": {},
     "output_type": "display_data"
    },
    {
     "name": "stdout",
     "output_type": "stream",
     "text": [
      "Confidence Intervals:\n"
     ]
    },
    {
     "data": {
      "text/html": [
       "<div>\n",
       "<style scoped>\n",
       "    .dataframe tbody tr th:only-of-type {\n",
       "        vertical-align: middle;\n",
       "    }\n",
       "\n",
       "    .dataframe tbody tr th {\n",
       "        vertical-align: top;\n",
       "    }\n",
       "\n",
       "    .dataframe thead th {\n",
       "        text-align: right;\n",
       "    }\n",
       "</style>\n",
       "<table border=\"1\" class=\"dataframe\">\n",
       "  <thead>\n",
       "    <tr style=\"text-align: right;\">\n",
       "      <th></th>\n",
       "      <th>0</th>\n",
       "      <th>1</th>\n",
       "    </tr>\n",
       "  </thead>\n",
       "  <tbody>\n",
       "    <tr>\n",
       "      <th>Intercept</th>\n",
       "      <td>17.833952</td>\n",
       "      <td>19.732689</td>\n",
       "    </tr>\n",
       "    <tr>\n",
       "      <th>x[0]</th>\n",
       "      <td>0.000002</td>\n",
       "      <td>0.000005</td>\n",
       "    </tr>\n",
       "    <tr>\n",
       "      <th>x[1]</th>\n",
       "      <td>-0.000183</td>\n",
       "      <td>0.000077</td>\n",
       "    </tr>\n",
       "    <tr>\n",
       "      <th>x[2]</th>\n",
       "      <td>-0.000051</td>\n",
       "      <td>0.000092</td>\n",
       "    </tr>\n",
       "  </tbody>\n",
       "</table>\n",
       "</div>"
      ],
      "text/plain": [
       "                   0          1\n",
       "Intercept  17.833952  19.732689\n",
       "x[0]        0.000002   0.000005\n",
       "x[1]       -0.000183   0.000077\n",
       "x[2]       -0.000051   0.000092"
      ]
     },
     "metadata": {},
     "output_type": "display_data"
    }
   ],
   "source": [
    "#Hypothesis Test\n",
    "x = final_data_age[predictors].reset_index(drop = True)\n",
    "y = final_data_age[['Value']].reset_index(drop = True)\n",
    "y_series = final_data_age.Value\n",
    "df = x.join(y)\n",
    "\n",
    "sm_model = smf.ols(\"y ~ x\", data=df)\n",
    "result = sm_model.fit()\n",
    "print('P values:')\n",
    "display(result.pvalues[:4])\n",
    "print('Confidence Intervals:')\n",
    "display(result.conf_int(0.05)[:4])"
   ]
  },
  {
   "cell_type": "markdown",
   "metadata": {},
   "source": [
    "The probability of getting a regression coefficient of 3.26 x $10^{-6}$ for new_positives by random chance alone is 1.42 x $10^{-4}$. Since the p-value of 1.42 x $10^{-4}$ is less than alpha = 0.05, we reject the null hypothesis. There is sufficient evidence to conclude that our regression coefficient of new_positives is not due to random chance, and therefore the linear relationship between new_positives and mental health value is statistically significant.\n",
    "\n",
    "The probability of getting a regression coefficient between new deaths and mental health value of -5.28 x $10^{-5}$ by random chance alone is 0.40. Since the p-value of 0.40 is NOT less than alpha = 0.05, we CANNOT reject the null hypothesis. There is sufficient evidence to conclude that our regression coefficient of new_deaths (3.26e-06) could be due to random chance, and therefore, the linear relationship between new_deaths and mental health value is NOT statistically significant.\n",
    "\n",
    "The probability of getting a regression coefficient of 2.02 x $10^{-5}$ for hospitalizations by random chance alone is 0.56. Since the p-value of 0.56 is NOT less than alpha = 0.05, we CANNOT reject the null hypothesis. There is sufficient evidence to conclude that our regression coefficient of hospitalizations could be due to random chance, and therefore, the linear relationship between hospitalizations and mental health value is NOT statistically significant.\n",
    "\n",
    "Since only one of the three covid metrics (new positives, hospitalizations, and new deaths), had a significant coefficient, I will run a new multivariate linear regression model using just new_positives and age as indicator variables."
   ]
  },
  {
   "cell_type": "code",
   "execution_count": 114,
   "metadata": {
    "scrolled": true
   },
   "outputs": [
    {
     "name": "stdout",
     "output_type": "stream",
     "text": [
      "The coefficient for new_positives is 3.4e-06\n",
      "The coefficient for is_young is 7.11\n",
      "The coefficient for is_old is -7.11\n",
      "The r-squared score of this multivariable linear regression model is 0.98\n"
     ]
    }
   ],
   "source": [
    "multi_model_age_positives = lr()\n",
    "\n",
    "predictors_pos = ['new_positives', 'is_young', 'is_old']\n",
    "multi_model_age_positives.fit(X = final_data_age[predictors_pos], y = final_data_age.Value)\n",
    "\n",
    "for featurenum in range(len(predictors_pos)):\n",
    "    print('The coefficient for {} is {:.3}'.format(predictors_pos[featurenum],multi_model_age_positives.coef_[featurenum]))\n",
    "print('The r-squared score of this multivariable linear regression model is {:.2f}'.format(multi_model_age_positives.score(final_data_age[predictors_pos], final_data_age.Value)))"
   ]
  },
  {
   "cell_type": "markdown",
   "metadata": {},
   "source": [
    "We still have an r-squared value of 0.98 which shows a strong linear relationship. Therefore, I will perform a hypothesis test on this new linear model.\n",
    "\n",
    "We want to test the following hypotheses at the alpha = 0.05 significance level. This null hypotheses assumes that there is zero relationship.\n",
    "\n",
    "new_positives:                                                     \n",
    "\n",
    "$H_0$:  $\\mu$ = 0             \n",
    "\n",
    "$H_p$:  $\\mu$ $\\neq$ 0      "
   ]
  },
  {
   "cell_type": "code",
   "execution_count": 115,
   "metadata": {},
   "outputs": [
    {
     "name": "stdout",
     "output_type": "stream",
     "text": [
      "P values:\n"
     ]
    },
    {
     "data": {
      "text/plain": [
       "Intercept    2.301368e-23\n",
       "x1[0]        2.918989e-07\n",
       "dtype: float64"
      ]
     },
     "metadata": {},
     "output_type": "display_data"
    },
    {
     "name": "stdout",
     "output_type": "stream",
     "text": [
      "Confidence Intervals:\n"
     ]
    },
    {
     "data": {
      "text/html": [
       "<div>\n",
       "<style scoped>\n",
       "    .dataframe tbody tr th:only-of-type {\n",
       "        vertical-align: middle;\n",
       "    }\n",
       "\n",
       "    .dataframe tbody tr th {\n",
       "        vertical-align: top;\n",
       "    }\n",
       "\n",
       "    .dataframe thead th {\n",
       "        text-align: right;\n",
       "    }\n",
       "</style>\n",
       "<table border=\"1\" class=\"dataframe\">\n",
       "  <thead>\n",
       "    <tr style=\"text-align: right;\">\n",
       "      <th></th>\n",
       "      <th>0</th>\n",
       "      <th>1</th>\n",
       "    </tr>\n",
       "  </thead>\n",
       "  <tbody>\n",
       "    <tr>\n",
       "      <th>Intercept</th>\n",
       "      <td>18.274253</td>\n",
       "      <td>19.556307</td>\n",
       "    </tr>\n",
       "    <tr>\n",
       "      <th>x1[0]</th>\n",
       "      <td>0.000002</td>\n",
       "      <td>0.000004</td>\n",
       "    </tr>\n",
       "  </tbody>\n",
       "</table>\n",
       "</div>"
      ],
      "text/plain": [
       "                   0          1\n",
       "Intercept  18.274253  19.556307\n",
       "x1[0]       0.000002   0.000004"
      ]
     },
     "metadata": {},
     "output_type": "display_data"
    }
   ],
   "source": [
    "#Hypothesis Test\n",
    "x1 = final_data_age[predictors].reset_index(drop = True)\n",
    "y1 = final_data_age[['Value']].reset_index(drop = True)\n",
    "y_series1 = final_data_age.Value\n",
    "df1 = x1.join(y1)\n",
    "\n",
    "sm_model1 = smf.ols(\"y1 ~ x1\", data=df1)\n",
    "result1 = sm_model1.fit()\n",
    "print('P values:')\n",
    "display(result1.pvalues[:2])"
   ]
  },
  {
   "cell_type": "markdown",
   "metadata": {},
   "source": [
    "The probability of getting a regression coefficient of 3.4 x $10^{-6}$ for new_positives by random chance alone is 2.92 x $10^{-7}$. Since the p-value of 2.92 x $10^{-7}$ is less than alpha = 0.05, we reject the null hypothesis. There is sufficient evidence to conclude that our regression coefficient of new_positives is not due to random chance, and therefore this multivariate linear model is statistically significant."
   ]
  },
  {
   "cell_type": "markdown",
   "metadata": {},
   "source": [
    "###  Linear Regression by Race"
   ]
  },
  {
   "cell_type": "code",
   "execution_count": 89,
   "metadata": {
    "scrolled": true
   },
   "outputs": [
    {
     "data": {
      "text/html": [
       "<div>\n",
       "<style scoped>\n",
       "    .dataframe tbody tr th:only-of-type {\n",
       "        vertical-align: middle;\n",
       "    }\n",
       "\n",
       "    .dataframe tbody tr th {\n",
       "        vertical-align: top;\n",
       "    }\n",
       "\n",
       "    .dataframe thead th {\n",
       "        text-align: right;\n",
       "    }\n",
       "</style>\n",
       "<table border=\"1\" class=\"dataframe\">\n",
       "  <thead>\n",
       "    <tr style=\"text-align: right;\">\n",
       "      <th></th>\n",
       "      <th>Indicator</th>\n",
       "      <th>Group</th>\n",
       "      <th>state</th>\n",
       "      <th>Subgroup</th>\n",
       "      <th>Phase</th>\n",
       "      <th>period</th>\n",
       "      <th>Time Period Label</th>\n",
       "      <th>time_start</th>\n",
       "      <th>time_end</th>\n",
       "      <th>Value</th>\n",
       "      <th>Low CI</th>\n",
       "      <th>High CI</th>\n",
       "      <th>new_deaths</th>\n",
       "      <th>hospitalized</th>\n",
       "      <th>new_positives</th>\n",
       "      <th>new_tests</th>\n",
       "      <th>percent_positive</th>\n",
       "      <th>case_month</th>\n",
       "    </tr>\n",
       "  </thead>\n",
       "  <tbody>\n",
       "    <tr>\n",
       "      <th>0</th>\n",
       "      <td>NaN</td>\n",
       "      <td>By Race/Hispanic ethnicity</td>\n",
       "      <td>NaN</td>\n",
       "      <td>asian</td>\n",
       "      <td>NaN</td>\n",
       "      <td>NaN</td>\n",
       "      <td>NaN</td>\n",
       "      <td>NaT</td>\n",
       "      <td>NaT</td>\n",
       "      <td>27.266667</td>\n",
       "      <td>24.133333</td>\n",
       "      <td>30.533333</td>\n",
       "      <td>1652.0</td>\n",
       "      <td>4743.0</td>\n",
       "      <td>17186.0</td>\n",
       "      <td>NaN</td>\n",
       "      <td>NaN</td>\n",
       "      <td>2020-04</td>\n",
       "    </tr>\n",
       "    <tr>\n",
       "      <th>1</th>\n",
       "      <td>NaN</td>\n",
       "      <td>By Race/Hispanic ethnicity</td>\n",
       "      <td>NaN</td>\n",
       "      <td>black</td>\n",
       "      <td>NaN</td>\n",
       "      <td>NaN</td>\n",
       "      <td>NaN</td>\n",
       "      <td>NaT</td>\n",
       "      <td>NaT</td>\n",
       "      <td>32.433333</td>\n",
       "      <td>30.133333</td>\n",
       "      <td>34.800000</td>\n",
       "      <td>8072.0</td>\n",
       "      <td>25724.0</td>\n",
       "      <td>92026.0</td>\n",
       "      <td>NaN</td>\n",
       "      <td>NaN</td>\n",
       "      <td>2020-04</td>\n",
       "    </tr>\n",
       "    <tr>\n",
       "      <th>2</th>\n",
       "      <td>NaN</td>\n",
       "      <td>By Race/Hispanic ethnicity</td>\n",
       "      <td>NaN</td>\n",
       "      <td>hispanic</td>\n",
       "      <td>NaN</td>\n",
       "      <td>NaN</td>\n",
       "      <td>NaN</td>\n",
       "      <td>NaT</td>\n",
       "      <td>NaT</td>\n",
       "      <td>36.133333</td>\n",
       "      <td>33.300000</td>\n",
       "      <td>39.000000</td>\n",
       "      <td>2955.0</td>\n",
       "      <td>13394.0</td>\n",
       "      <td>75884.0</td>\n",
       "      <td>NaN</td>\n",
       "      <td>NaN</td>\n",
       "      <td>2020-04</td>\n",
       "    </tr>\n",
       "    <tr>\n",
       "      <th>3</th>\n",
       "      <td>NaN</td>\n",
       "      <td>By Race/Hispanic ethnicity</td>\n",
       "      <td>NaN</td>\n",
       "      <td>other</td>\n",
       "      <td>NaN</td>\n",
       "      <td>NaN</td>\n",
       "      <td>NaN</td>\n",
       "      <td>NaT</td>\n",
       "      <td>NaT</td>\n",
       "      <td>36.800000</td>\n",
       "      <td>32.966667</td>\n",
       "      <td>40.800000</td>\n",
       "      <td>1493.0</td>\n",
       "      <td>5060.0</td>\n",
       "      <td>21946.0</td>\n",
       "      <td>NaN</td>\n",
       "      <td>NaN</td>\n",
       "      <td>2020-04</td>\n",
       "    </tr>\n",
       "    <tr>\n",
       "      <th>4</th>\n",
       "      <td>NaN</td>\n",
       "      <td>By Race/Hispanic ethnicity</td>\n",
       "      <td>NaN</td>\n",
       "      <td>white</td>\n",
       "      <td>NaN</td>\n",
       "      <td>NaN</td>\n",
       "      <td>NaN</td>\n",
       "      <td>NaT</td>\n",
       "      <td>NaT</td>\n",
       "      <td>28.000000</td>\n",
       "      <td>27.166667</td>\n",
       "      <td>28.800000</td>\n",
       "      <td>26082.0</td>\n",
       "      <td>40638.0</td>\n",
       "      <td>168357.0</td>\n",
       "      <td>NaN</td>\n",
       "      <td>NaN</td>\n",
       "      <td>2020-04</td>\n",
       "    </tr>\n",
       "    <tr>\n",
       "      <th>5</th>\n",
       "      <td>NaN</td>\n",
       "      <td>By Race/Hispanic ethnicity</td>\n",
       "      <td>NaN</td>\n",
       "      <td>asian</td>\n",
       "      <td>NaN</td>\n",
       "      <td>NaN</td>\n",
       "      <td>NaN</td>\n",
       "      <td>NaT</td>\n",
       "      <td>NaT</td>\n",
       "      <td>25.341667</td>\n",
       "      <td>22.225000</td>\n",
       "      <td>28.725000</td>\n",
       "      <td>301.0</td>\n",
       "      <td>1421.0</td>\n",
       "      <td>9699.0</td>\n",
       "      <td>NaN</td>\n",
       "      <td>NaN</td>\n",
       "      <td>2020-05</td>\n",
       "    </tr>\n",
       "    <tr>\n",
       "      <th>6</th>\n",
       "      <td>NaN</td>\n",
       "      <td>By Race/Hispanic ethnicity</td>\n",
       "      <td>NaN</td>\n",
       "      <td>black</td>\n",
       "      <td>NaN</td>\n",
       "      <td>NaN</td>\n",
       "      <td>NaN</td>\n",
       "      <td>NaT</td>\n",
       "      <td>NaT</td>\n",
       "      <td>32.908333</td>\n",
       "      <td>30.216667</td>\n",
       "      <td>35.700000</td>\n",
       "      <td>1333.0</td>\n",
       "      <td>9195.0</td>\n",
       "      <td>65556.0</td>\n",
       "      <td>NaN</td>\n",
       "      <td>NaN</td>\n",
       "      <td>2020-05</td>\n",
       "    </tr>\n",
       "    <tr>\n",
       "      <th>7</th>\n",
       "      <td>NaN</td>\n",
       "      <td>By Race/Hispanic ethnicity</td>\n",
       "      <td>NaN</td>\n",
       "      <td>hispanic</td>\n",
       "      <td>NaN</td>\n",
       "      <td>NaN</td>\n",
       "      <td>NaN</td>\n",
       "      <td>NaT</td>\n",
       "      <td>NaT</td>\n",
       "      <td>34.458333</td>\n",
       "      <td>31.716667</td>\n",
       "      <td>37.266667</td>\n",
       "      <td>651.0</td>\n",
       "      <td>5858.0</td>\n",
       "      <td>73340.0</td>\n",
       "      <td>NaN</td>\n",
       "      <td>NaN</td>\n",
       "      <td>2020-05</td>\n",
       "    </tr>\n",
       "    <tr>\n",
       "      <th>8</th>\n",
       "      <td>NaN</td>\n",
       "      <td>By Race/Hispanic ethnicity</td>\n",
       "      <td>NaN</td>\n",
       "      <td>other</td>\n",
       "      <td>NaN</td>\n",
       "      <td>NaN</td>\n",
       "      <td>NaN</td>\n",
       "      <td>NaT</td>\n",
       "      <td>NaT</td>\n",
       "      <td>38.283333</td>\n",
       "      <td>34.241667</td>\n",
       "      <td>42.475000</td>\n",
       "      <td>255.0</td>\n",
       "      <td>1662.0</td>\n",
       "      <td>19763.0</td>\n",
       "      <td>NaN</td>\n",
       "      <td>NaN</td>\n",
       "      <td>2020-05</td>\n",
       "    </tr>\n",
       "    <tr>\n",
       "      <th>9</th>\n",
       "      <td>NaN</td>\n",
       "      <td>By Race/Hispanic ethnicity</td>\n",
       "      <td>NaN</td>\n",
       "      <td>white</td>\n",
       "      <td>NaN</td>\n",
       "      <td>NaN</td>\n",
       "      <td>NaN</td>\n",
       "      <td>NaT</td>\n",
       "      <td>NaT</td>\n",
       "      <td>27.633333</td>\n",
       "      <td>26.766667</td>\n",
       "      <td>28.491667</td>\n",
       "      <td>8771.0</td>\n",
       "      <td>18074.0</td>\n",
       "      <td>133522.0</td>\n",
       "      <td>NaN</td>\n",
       "      <td>NaN</td>\n",
       "      <td>2020-05</td>\n",
       "    </tr>\n",
       "    <tr>\n",
       "      <th>10</th>\n",
       "      <td>NaN</td>\n",
       "      <td>By Race/Hispanic ethnicity</td>\n",
       "      <td>NaN</td>\n",
       "      <td>asian</td>\n",
       "      <td>NaN</td>\n",
       "      <td>NaN</td>\n",
       "      <td>NaN</td>\n",
       "      <td>NaT</td>\n",
       "      <td>NaT</td>\n",
       "      <td>24.733333</td>\n",
       "      <td>21.316667</td>\n",
       "      <td>28.400000</td>\n",
       "      <td>140.0</td>\n",
       "      <td>1083.0</td>\n",
       "      <td>10258.0</td>\n",
       "      <td>NaN</td>\n",
       "      <td>NaN</td>\n",
       "      <td>2020-06</td>\n",
       "    </tr>\n",
       "    <tr>\n",
       "      <th>11</th>\n",
       "      <td>NaN</td>\n",
       "      <td>By Race/Hispanic ethnicity</td>\n",
       "      <td>NaN</td>\n",
       "      <td>black</td>\n",
       "      <td>NaN</td>\n",
       "      <td>NaN</td>\n",
       "      <td>NaN</td>\n",
       "      <td>NaT</td>\n",
       "      <td>NaT</td>\n",
       "      <td>34.616667</td>\n",
       "      <td>32.158333</td>\n",
       "      <td>37.141667</td>\n",
       "      <td>565.0</td>\n",
       "      <td>7075.0</td>\n",
       "      <td>73574.0</td>\n",
       "      <td>NaN</td>\n",
       "      <td>NaN</td>\n",
       "      <td>2020-06</td>\n",
       "    </tr>\n",
       "    <tr>\n",
       "      <th>12</th>\n",
       "      <td>NaN</td>\n",
       "      <td>By Race/Hispanic ethnicity</td>\n",
       "      <td>NaN</td>\n",
       "      <td>hispanic</td>\n",
       "      <td>NaN</td>\n",
       "      <td>NaN</td>\n",
       "      <td>NaN</td>\n",
       "      <td>NaT</td>\n",
       "      <td>NaT</td>\n",
       "      <td>35.491667</td>\n",
       "      <td>32.983333</td>\n",
       "      <td>38.083333</td>\n",
       "      <td>900.0</td>\n",
       "      <td>5765.0</td>\n",
       "      <td>101656.0</td>\n",
       "      <td>NaN</td>\n",
       "      <td>NaN</td>\n",
       "      <td>2020-06</td>\n",
       "    </tr>\n",
       "    <tr>\n",
       "      <th>13</th>\n",
       "      <td>NaN</td>\n",
       "      <td>By Race/Hispanic ethnicity</td>\n",
       "      <td>NaN</td>\n",
       "      <td>other</td>\n",
       "      <td>NaN</td>\n",
       "      <td>NaN</td>\n",
       "      <td>NaN</td>\n",
       "      <td>NaT</td>\n",
       "      <td>NaT</td>\n",
       "      <td>40.608333</td>\n",
       "      <td>36.616667</td>\n",
       "      <td>44.675000</td>\n",
       "      <td>53.0</td>\n",
       "      <td>1561.0</td>\n",
       "      <td>25631.0</td>\n",
       "      <td>NaN</td>\n",
       "      <td>NaN</td>\n",
       "      <td>2020-06</td>\n",
       "    </tr>\n",
       "    <tr>\n",
       "      <th>14</th>\n",
       "      <td>NaN</td>\n",
       "      <td>By Race/Hispanic ethnicity</td>\n",
       "      <td>NaN</td>\n",
       "      <td>white</td>\n",
       "      <td>NaN</td>\n",
       "      <td>NaN</td>\n",
       "      <td>NaN</td>\n",
       "      <td>NaT</td>\n",
       "      <td>NaT</td>\n",
       "      <td>29.675000</td>\n",
       "      <td>28.783333</td>\n",
       "      <td>30.600000</td>\n",
       "      <td>3855.0</td>\n",
       "      <td>16874.0</td>\n",
       "      <td>220727.0</td>\n",
       "      <td>NaN</td>\n",
       "      <td>NaN</td>\n",
       "      <td>2020-06</td>\n",
       "    </tr>\n",
       "    <tr>\n",
       "      <th>15</th>\n",
       "      <td>NaN</td>\n",
       "      <td>By Race/Hispanic ethnicity</td>\n",
       "      <td>NaN</td>\n",
       "      <td>asian</td>\n",
       "      <td>NaN</td>\n",
       "      <td>NaN</td>\n",
       "      <td>NaN</td>\n",
       "      <td>NaT</td>\n",
       "      <td>NaT</td>\n",
       "      <td>32.266667</td>\n",
       "      <td>28.444444</td>\n",
       "      <td>36.255556</td>\n",
       "      <td>286.0</td>\n",
       "      <td>1518.0</td>\n",
       "      <td>14552.0</td>\n",
       "      <td>NaN</td>\n",
       "      <td>NaN</td>\n",
       "      <td>2020-07</td>\n",
       "    </tr>\n",
       "    <tr>\n",
       "      <th>16</th>\n",
       "      <td>NaN</td>\n",
       "      <td>By Race/Hispanic ethnicity</td>\n",
       "      <td>NaN</td>\n",
       "      <td>black</td>\n",
       "      <td>NaN</td>\n",
       "      <td>NaN</td>\n",
       "      <td>NaN</td>\n",
       "      <td>NaT</td>\n",
       "      <td>NaT</td>\n",
       "      <td>36.066667</td>\n",
       "      <td>33.788889</td>\n",
       "      <td>38.366667</td>\n",
       "      <td>1610.0</td>\n",
       "      <td>11808.0</td>\n",
       "      <td>136459.0</td>\n",
       "      <td>NaN</td>\n",
       "      <td>NaN</td>\n",
       "      <td>2020-07</td>\n",
       "    </tr>\n",
       "    <tr>\n",
       "      <th>17</th>\n",
       "      <td>NaN</td>\n",
       "      <td>By Race/Hispanic ethnicity</td>\n",
       "      <td>NaN</td>\n",
       "      <td>hispanic</td>\n",
       "      <td>NaN</td>\n",
       "      <td>NaN</td>\n",
       "      <td>NaN</td>\n",
       "      <td>NaT</td>\n",
       "      <td>NaT</td>\n",
       "      <td>38.677778</td>\n",
       "      <td>36.166667</td>\n",
       "      <td>41.200000</td>\n",
       "      <td>1730.0</td>\n",
       "      <td>7656.0</td>\n",
       "      <td>118640.0</td>\n",
       "      <td>NaN</td>\n",
       "      <td>NaN</td>\n",
       "      <td>2020-07</td>\n",
       "    </tr>\n",
       "    <tr>\n",
       "      <th>18</th>\n",
       "      <td>NaN</td>\n",
       "      <td>By Race/Hispanic ethnicity</td>\n",
       "      <td>NaN</td>\n",
       "      <td>other</td>\n",
       "      <td>NaN</td>\n",
       "      <td>NaN</td>\n",
       "      <td>NaN</td>\n",
       "      <td>NaT</td>\n",
       "      <td>NaT</td>\n",
       "      <td>42.855556</td>\n",
       "      <td>39.044444</td>\n",
       "      <td>46.722222</td>\n",
       "      <td>33.0</td>\n",
       "      <td>2904.0</td>\n",
       "      <td>49693.0</td>\n",
       "      <td>NaN</td>\n",
       "      <td>NaN</td>\n",
       "      <td>2020-07</td>\n",
       "    </tr>\n",
       "    <tr>\n",
       "      <th>19</th>\n",
       "      <td>NaN</td>\n",
       "      <td>By Race/Hispanic ethnicity</td>\n",
       "      <td>NaN</td>\n",
       "      <td>white</td>\n",
       "      <td>NaN</td>\n",
       "      <td>NaN</td>\n",
       "      <td>NaN</td>\n",
       "      <td>NaT</td>\n",
       "      <td>NaT</td>\n",
       "      <td>32.888889</td>\n",
       "      <td>32.033333</td>\n",
       "      <td>33.766667</td>\n",
       "      <td>8087.0</td>\n",
       "      <td>30124.0</td>\n",
       "      <td>392934.0</td>\n",
       "      <td>NaN</td>\n",
       "      <td>NaN</td>\n",
       "      <td>2020-07</td>\n",
       "    </tr>\n",
       "    <tr>\n",
       "      <th>20</th>\n",
       "      <td>NaN</td>\n",
       "      <td>By Race/Hispanic ethnicity</td>\n",
       "      <td>NaN</td>\n",
       "      <td>asian</td>\n",
       "      <td>NaN</td>\n",
       "      <td>NaN</td>\n",
       "      <td>NaN</td>\n",
       "      <td>NaT</td>\n",
       "      <td>NaT</td>\n",
       "      <td>25.466667</td>\n",
       "      <td>23.333333</td>\n",
       "      <td>27.700000</td>\n",
       "      <td>183.0</td>\n",
       "      <td>955.0</td>\n",
       "      <td>12379.0</td>\n",
       "      <td>NaN</td>\n",
       "      <td>NaN</td>\n",
       "      <td>2020-08</td>\n",
       "    </tr>\n",
       "    <tr>\n",
       "      <th>21</th>\n",
       "      <td>NaN</td>\n",
       "      <td>By Race/Hispanic ethnicity</td>\n",
       "      <td>NaN</td>\n",
       "      <td>black</td>\n",
       "      <td>NaN</td>\n",
       "      <td>NaN</td>\n",
       "      <td>NaN</td>\n",
       "      <td>NaT</td>\n",
       "      <td>NaT</td>\n",
       "      <td>31.566667</td>\n",
       "      <td>29.566667</td>\n",
       "      <td>33.633333</td>\n",
       "      <td>558.0</td>\n",
       "      <td>6252.0</td>\n",
       "      <td>87135.0</td>\n",
       "      <td>NaN</td>\n",
       "      <td>NaN</td>\n",
       "      <td>2020-08</td>\n",
       "    </tr>\n",
       "    <tr>\n",
       "      <th>22</th>\n",
       "      <td>NaN</td>\n",
       "      <td>By Race/Hispanic ethnicity</td>\n",
       "      <td>NaN</td>\n",
       "      <td>hispanic</td>\n",
       "      <td>NaN</td>\n",
       "      <td>NaN</td>\n",
       "      <td>NaN</td>\n",
       "      <td>NaT</td>\n",
       "      <td>NaT</td>\n",
       "      <td>34.000000</td>\n",
       "      <td>32.033333</td>\n",
       "      <td>35.966667</td>\n",
       "      <td>927.0</td>\n",
       "      <td>2986.0</td>\n",
       "      <td>81048.0</td>\n",
       "      <td>NaN</td>\n",
       "      <td>NaN</td>\n",
       "      <td>2020-08</td>\n",
       "    </tr>\n",
       "    <tr>\n",
       "      <th>23</th>\n",
       "      <td>NaN</td>\n",
       "      <td>By Race/Hispanic ethnicity</td>\n",
       "      <td>NaN</td>\n",
       "      <td>other</td>\n",
       "      <td>NaN</td>\n",
       "      <td>NaN</td>\n",
       "      <td>NaN</td>\n",
       "      <td>NaT</td>\n",
       "      <td>NaT</td>\n",
       "      <td>36.833333</td>\n",
       "      <td>34.066667</td>\n",
       "      <td>39.733333</td>\n",
       "      <td>23.0</td>\n",
       "      <td>1791.0</td>\n",
       "      <td>35853.0</td>\n",
       "      <td>NaN</td>\n",
       "      <td>NaN</td>\n",
       "      <td>2020-08</td>\n",
       "    </tr>\n",
       "    <tr>\n",
       "      <th>24</th>\n",
       "      <td>NaN</td>\n",
       "      <td>By Race/Hispanic ethnicity</td>\n",
       "      <td>NaN</td>\n",
       "      <td>white</td>\n",
       "      <td>NaN</td>\n",
       "      <td>NaN</td>\n",
       "      <td>NaN</td>\n",
       "      <td>NaT</td>\n",
       "      <td>NaT</td>\n",
       "      <td>29.933333</td>\n",
       "      <td>29.333333</td>\n",
       "      <td>30.500000</td>\n",
       "      <td>5062.0</td>\n",
       "      <td>20343.0</td>\n",
       "      <td>329471.0</td>\n",
       "      <td>NaN</td>\n",
       "      <td>NaN</td>\n",
       "      <td>2020-08</td>\n",
       "    </tr>\n",
       "    <tr>\n",
       "      <th>25</th>\n",
       "      <td>NaN</td>\n",
       "      <td>By Race/Hispanic ethnicity</td>\n",
       "      <td>NaN</td>\n",
       "      <td>asian</td>\n",
       "      <td>NaN</td>\n",
       "      <td>NaN</td>\n",
       "      <td>NaN</td>\n",
       "      <td>NaT</td>\n",
       "      <td>NaT</td>\n",
       "      <td>24.016667</td>\n",
       "      <td>21.783333</td>\n",
       "      <td>26.333333</td>\n",
       "      <td>54.0</td>\n",
       "      <td>612.0</td>\n",
       "      <td>11626.0</td>\n",
       "      <td>NaN</td>\n",
       "      <td>NaN</td>\n",
       "      <td>2020-09</td>\n",
       "    </tr>\n",
       "    <tr>\n",
       "      <th>26</th>\n",
       "      <td>NaN</td>\n",
       "      <td>By Race/Hispanic ethnicity</td>\n",
       "      <td>NaN</td>\n",
       "      <td>black</td>\n",
       "      <td>NaN</td>\n",
       "      <td>NaN</td>\n",
       "      <td>NaN</td>\n",
       "      <td>NaT</td>\n",
       "      <td>NaT</td>\n",
       "      <td>32.550000</td>\n",
       "      <td>30.533333</td>\n",
       "      <td>34.600000</td>\n",
       "      <td>154.0</td>\n",
       "      <td>3573.0</td>\n",
       "      <td>63497.0</td>\n",
       "      <td>NaN</td>\n",
       "      <td>NaN</td>\n",
       "      <td>2020-09</td>\n",
       "    </tr>\n",
       "    <tr>\n",
       "      <th>27</th>\n",
       "      <td>NaN</td>\n",
       "      <td>By Race/Hispanic ethnicity</td>\n",
       "      <td>NaN</td>\n",
       "      <td>hispanic</td>\n",
       "      <td>NaN</td>\n",
       "      <td>NaN</td>\n",
       "      <td>NaN</td>\n",
       "      <td>NaT</td>\n",
       "      <td>NaT</td>\n",
       "      <td>36.783333</td>\n",
       "      <td>34.716667</td>\n",
       "      <td>38.866667</td>\n",
       "      <td>291.0</td>\n",
       "      <td>1609.0</td>\n",
       "      <td>61495.0</td>\n",
       "      <td>NaN</td>\n",
       "      <td>NaN</td>\n",
       "      <td>2020-09</td>\n",
       "    </tr>\n",
       "    <tr>\n",
       "      <th>28</th>\n",
       "      <td>NaN</td>\n",
       "      <td>By Race/Hispanic ethnicity</td>\n",
       "      <td>NaN</td>\n",
       "      <td>other</td>\n",
       "      <td>NaN</td>\n",
       "      <td>NaN</td>\n",
       "      <td>NaN</td>\n",
       "      <td>NaT</td>\n",
       "      <td>NaT</td>\n",
       "      <td>39.450000</td>\n",
       "      <td>36.200000</td>\n",
       "      <td>42.766667</td>\n",
       "      <td>35.0</td>\n",
       "      <td>1209.0</td>\n",
       "      <td>37385.0</td>\n",
       "      <td>NaN</td>\n",
       "      <td>NaN</td>\n",
       "      <td>2020-09</td>\n",
       "    </tr>\n",
       "    <tr>\n",
       "      <th>29</th>\n",
       "      <td>NaN</td>\n",
       "      <td>By Race/Hispanic ethnicity</td>\n",
       "      <td>NaN</td>\n",
       "      <td>white</td>\n",
       "      <td>NaN</td>\n",
       "      <td>NaN</td>\n",
       "      <td>NaN</td>\n",
       "      <td>NaT</td>\n",
       "      <td>NaT</td>\n",
       "      <td>29.650000</td>\n",
       "      <td>28.983333</td>\n",
       "      <td>30.316667</td>\n",
       "      <td>3142.0</td>\n",
       "      <td>19419.0</td>\n",
       "      <td>414159.0</td>\n",
       "      <td>NaN</td>\n",
       "      <td>NaN</td>\n",
       "      <td>2020-09</td>\n",
       "    </tr>\n",
       "    <tr>\n",
       "      <th>30</th>\n",
       "      <td>NaN</td>\n",
       "      <td>By Race/Hispanic ethnicity</td>\n",
       "      <td>NaN</td>\n",
       "      <td>asian</td>\n",
       "      <td>NaN</td>\n",
       "      <td>NaN</td>\n",
       "      <td>NaN</td>\n",
       "      <td>NaT</td>\n",
       "      <td>NaT</td>\n",
       "      <td>26.600000</td>\n",
       "      <td>23.983333</td>\n",
       "      <td>29.300000</td>\n",
       "      <td>72.0</td>\n",
       "      <td>1070.0</td>\n",
       "      <td>21932.0</td>\n",
       "      <td>NaN</td>\n",
       "      <td>NaN</td>\n",
       "      <td>2020-10</td>\n",
       "    </tr>\n",
       "    <tr>\n",
       "      <th>31</th>\n",
       "      <td>NaN</td>\n",
       "      <td>By Race/Hispanic ethnicity</td>\n",
       "      <td>NaN</td>\n",
       "      <td>black</td>\n",
       "      <td>NaN</td>\n",
       "      <td>NaN</td>\n",
       "      <td>NaN</td>\n",
       "      <td>NaT</td>\n",
       "      <td>NaT</td>\n",
       "      <td>33.750000</td>\n",
       "      <td>31.700000</td>\n",
       "      <td>35.833333</td>\n",
       "      <td>270.0</td>\n",
       "      <td>5817.0</td>\n",
       "      <td>100664.0</td>\n",
       "      <td>NaN</td>\n",
       "      <td>NaN</td>\n",
       "      <td>2020-10</td>\n",
       "    </tr>\n",
       "    <tr>\n",
       "      <th>32</th>\n",
       "      <td>NaN</td>\n",
       "      <td>By Race/Hispanic ethnicity</td>\n",
       "      <td>NaN</td>\n",
       "      <td>hispanic</td>\n",
       "      <td>NaN</td>\n",
       "      <td>NaN</td>\n",
       "      <td>NaN</td>\n",
       "      <td>NaT</td>\n",
       "      <td>NaT</td>\n",
       "      <td>36.816667</td>\n",
       "      <td>34.400000</td>\n",
       "      <td>39.266667</td>\n",
       "      <td>382.0</td>\n",
       "      <td>3248.0</td>\n",
       "      <td>116325.0</td>\n",
       "      <td>NaN</td>\n",
       "      <td>NaN</td>\n",
       "      <td>2020-10</td>\n",
       "    </tr>\n",
       "    <tr>\n",
       "      <th>33</th>\n",
       "      <td>NaN</td>\n",
       "      <td>By Race/Hispanic ethnicity</td>\n",
       "      <td>NaN</td>\n",
       "      <td>other</td>\n",
       "      <td>NaN</td>\n",
       "      <td>NaN</td>\n",
       "      <td>NaN</td>\n",
       "      <td>NaT</td>\n",
       "      <td>NaT</td>\n",
       "      <td>40.566667</td>\n",
       "      <td>37.016667</td>\n",
       "      <td>44.150000</td>\n",
       "      <td>128.0</td>\n",
       "      <td>2129.0</td>\n",
       "      <td>68096.0</td>\n",
       "      <td>NaN</td>\n",
       "      <td>NaN</td>\n",
       "      <td>2020-10</td>\n",
       "    </tr>\n",
       "    <tr>\n",
       "      <th>34</th>\n",
       "      <td>NaN</td>\n",
       "      <td>By Race/Hispanic ethnicity</td>\n",
       "      <td>NaN</td>\n",
       "      <td>white</td>\n",
       "      <td>NaN</td>\n",
       "      <td>NaN</td>\n",
       "      <td>NaN</td>\n",
       "      <td>NaT</td>\n",
       "      <td>NaT</td>\n",
       "      <td>30.450000</td>\n",
       "      <td>29.733333</td>\n",
       "      <td>31.150000</td>\n",
       "      <td>8747.0</td>\n",
       "      <td>38337.0</td>\n",
       "      <td>776011.0</td>\n",
       "      <td>NaN</td>\n",
       "      <td>NaN</td>\n",
       "      <td>2020-10</td>\n",
       "    </tr>\n",
       "    <tr>\n",
       "      <th>35</th>\n",
       "      <td>NaN</td>\n",
       "      <td>By Race/Hispanic ethnicity</td>\n",
       "      <td>NaN</td>\n",
       "      <td>asian</td>\n",
       "      <td>NaN</td>\n",
       "      <td>NaN</td>\n",
       "      <td>NaN</td>\n",
       "      <td>NaT</td>\n",
       "      <td>NaT</td>\n",
       "      <td>27.533333</td>\n",
       "      <td>24.266667</td>\n",
       "      <td>31.000000</td>\n",
       "      <td>497.0</td>\n",
       "      <td>3361.0</td>\n",
       "      <td>61412.0</td>\n",
       "      <td>NaN</td>\n",
       "      <td>NaN</td>\n",
       "      <td>2020-11</td>\n",
       "    </tr>\n",
       "    <tr>\n",
       "      <th>36</th>\n",
       "      <td>NaN</td>\n",
       "      <td>By Race/Hispanic ethnicity</td>\n",
       "      <td>NaN</td>\n",
       "      <td>black</td>\n",
       "      <td>NaN</td>\n",
       "      <td>NaN</td>\n",
       "      <td>NaN</td>\n",
       "      <td>NaT</td>\n",
       "      <td>NaT</td>\n",
       "      <td>38.250000</td>\n",
       "      <td>35.233333</td>\n",
       "      <td>41.366667</td>\n",
       "      <td>1301.0</td>\n",
       "      <td>12004.0</td>\n",
       "      <td>181351.0</td>\n",
       "      <td>NaN</td>\n",
       "      <td>NaN</td>\n",
       "      <td>2020-11</td>\n",
       "    </tr>\n",
       "    <tr>\n",
       "      <th>37</th>\n",
       "      <td>NaN</td>\n",
       "      <td>By Race/Hispanic ethnicity</td>\n",
       "      <td>NaN</td>\n",
       "      <td>hispanic</td>\n",
       "      <td>NaN</td>\n",
       "      <td>NaN</td>\n",
       "      <td>NaN</td>\n",
       "      <td>NaT</td>\n",
       "      <td>NaT</td>\n",
       "      <td>41.033333</td>\n",
       "      <td>38.333333</td>\n",
       "      <td>43.750000</td>\n",
       "      <td>990.0</td>\n",
       "      <td>8066.0</td>\n",
       "      <td>200561.0</td>\n",
       "      <td>NaN</td>\n",
       "      <td>NaN</td>\n",
       "      <td>2020-11</td>\n",
       "    </tr>\n",
       "    <tr>\n",
       "      <th>38</th>\n",
       "      <td>NaN</td>\n",
       "      <td>By Race/Hispanic ethnicity</td>\n",
       "      <td>NaN</td>\n",
       "      <td>other</td>\n",
       "      <td>NaN</td>\n",
       "      <td>NaN</td>\n",
       "      <td>NaN</td>\n",
       "      <td>NaT</td>\n",
       "      <td>NaT</td>\n",
       "      <td>43.766667</td>\n",
       "      <td>39.650000</td>\n",
       "      <td>47.950000</td>\n",
       "      <td>374.0</td>\n",
       "      <td>6087.0</td>\n",
       "      <td>140330.0</td>\n",
       "      <td>NaN</td>\n",
       "      <td>NaN</td>\n",
       "      <td>2020-11</td>\n",
       "    </tr>\n",
       "    <tr>\n",
       "      <th>39</th>\n",
       "      <td>NaN</td>\n",
       "      <td>By Race/Hispanic ethnicity</td>\n",
       "      <td>NaN</td>\n",
       "      <td>white</td>\n",
       "      <td>NaN</td>\n",
       "      <td>NaN</td>\n",
       "      <td>NaN</td>\n",
       "      <td>NaT</td>\n",
       "      <td>NaT</td>\n",
       "      <td>34.033333</td>\n",
       "      <td>33.166667</td>\n",
       "      <td>34.850000</td>\n",
       "      <td>24000.0</td>\n",
       "      <td>75444.0</td>\n",
       "      <td>1541318.0</td>\n",
       "      <td>NaN</td>\n",
       "      <td>NaN</td>\n",
       "      <td>2020-11</td>\n",
       "    </tr>\n",
       "    <tr>\n",
       "      <th>40</th>\n",
       "      <td>NaN</td>\n",
       "      <td>By Race/Hispanic ethnicity</td>\n",
       "      <td>NaN</td>\n",
       "      <td>asian</td>\n",
       "      <td>NaN</td>\n",
       "      <td>NaN</td>\n",
       "      <td>NaN</td>\n",
       "      <td>NaT</td>\n",
       "      <td>NaT</td>\n",
       "      <td>29.000000</td>\n",
       "      <td>25.816667</td>\n",
       "      <td>32.350000</td>\n",
       "      <td>2213.0</td>\n",
       "      <td>6440.0</td>\n",
       "      <td>113405.0</td>\n",
       "      <td>NaN</td>\n",
       "      <td>NaN</td>\n",
       "      <td>2020-12</td>\n",
       "    </tr>\n",
       "    <tr>\n",
       "      <th>41</th>\n",
       "      <td>NaN</td>\n",
       "      <td>By Race/Hispanic ethnicity</td>\n",
       "      <td>NaN</td>\n",
       "      <td>black</td>\n",
       "      <td>NaN</td>\n",
       "      <td>NaN</td>\n",
       "      <td>NaN</td>\n",
       "      <td>NaT</td>\n",
       "      <td>NaT</td>\n",
       "      <td>39.316667</td>\n",
       "      <td>36.816667</td>\n",
       "      <td>41.883333</td>\n",
       "      <td>2682.0</td>\n",
       "      <td>16153.0</td>\n",
       "      <td>278340.0</td>\n",
       "      <td>NaN</td>\n",
       "      <td>NaN</td>\n",
       "      <td>2020-12</td>\n",
       "    </tr>\n",
       "    <tr>\n",
       "      <th>42</th>\n",
       "      <td>NaN</td>\n",
       "      <td>By Race/Hispanic ethnicity</td>\n",
       "      <td>NaN</td>\n",
       "      <td>hispanic</td>\n",
       "      <td>NaN</td>\n",
       "      <td>NaN</td>\n",
       "      <td>NaN</td>\n",
       "      <td>NaT</td>\n",
       "      <td>NaT</td>\n",
       "      <td>40.333333</td>\n",
       "      <td>37.850000</td>\n",
       "      <td>42.783333</td>\n",
       "      <td>1842.0</td>\n",
       "      <td>9573.0</td>\n",
       "      <td>238611.0</td>\n",
       "      <td>NaN</td>\n",
       "      <td>NaN</td>\n",
       "      <td>2020-12</td>\n",
       "    </tr>\n",
       "    <tr>\n",
       "      <th>43</th>\n",
       "      <td>NaN</td>\n",
       "      <td>By Race/Hispanic ethnicity</td>\n",
       "      <td>NaN</td>\n",
       "      <td>other</td>\n",
       "      <td>NaN</td>\n",
       "      <td>NaN</td>\n",
       "      <td>NaN</td>\n",
       "      <td>NaT</td>\n",
       "      <td>NaT</td>\n",
       "      <td>43.383333</td>\n",
       "      <td>39.933333</td>\n",
       "      <td>46.866667</td>\n",
       "      <td>1440.0</td>\n",
       "      <td>9661.0</td>\n",
       "      <td>259562.0</td>\n",
       "      <td>NaN</td>\n",
       "      <td>NaN</td>\n",
       "      <td>2020-12</td>\n",
       "    </tr>\n",
       "    <tr>\n",
       "      <th>44</th>\n",
       "      <td>NaN</td>\n",
       "      <td>By Race/Hispanic ethnicity</td>\n",
       "      <td>NaN</td>\n",
       "      <td>white</td>\n",
       "      <td>NaN</td>\n",
       "      <td>NaN</td>\n",
       "      <td>NaN</td>\n",
       "      <td>NaT</td>\n",
       "      <td>NaT</td>\n",
       "      <td>34.483333</td>\n",
       "      <td>33.683333</td>\n",
       "      <td>35.283333</td>\n",
       "      <td>36732.0</td>\n",
       "      <td>89686.0</td>\n",
       "      <td>1900119.0</td>\n",
       "      <td>NaN</td>\n",
       "      <td>NaN</td>\n",
       "      <td>2020-12</td>\n",
       "    </tr>\n",
       "    <tr>\n",
       "      <th>45</th>\n",
       "      <td>NaN</td>\n",
       "      <td>By Race/Hispanic ethnicity</td>\n",
       "      <td>NaN</td>\n",
       "      <td>asian</td>\n",
       "      <td>NaN</td>\n",
       "      <td>NaN</td>\n",
       "      <td>NaN</td>\n",
       "      <td>NaT</td>\n",
       "      <td>NaT</td>\n",
       "      <td>29.900000</td>\n",
       "      <td>26.833333</td>\n",
       "      <td>33.033333</td>\n",
       "      <td>1477.0</td>\n",
       "      <td>5383.0</td>\n",
       "      <td>108151.0</td>\n",
       "      <td>NaN</td>\n",
       "      <td>NaN</td>\n",
       "      <td>2021-01</td>\n",
       "    </tr>\n",
       "    <tr>\n",
       "      <th>46</th>\n",
       "      <td>NaN</td>\n",
       "      <td>By Race/Hispanic ethnicity</td>\n",
       "      <td>NaN</td>\n",
       "      <td>black</td>\n",
       "      <td>NaN</td>\n",
       "      <td>NaN</td>\n",
       "      <td>NaN</td>\n",
       "      <td>NaT</td>\n",
       "      <td>NaT</td>\n",
       "      <td>36.950000</td>\n",
       "      <td>34.100000</td>\n",
       "      <td>39.916667</td>\n",
       "      <td>2116.0</td>\n",
       "      <td>14834.0</td>\n",
       "      <td>289993.0</td>\n",
       "      <td>NaN</td>\n",
       "      <td>NaN</td>\n",
       "      <td>2021-01</td>\n",
       "    </tr>\n",
       "    <tr>\n",
       "      <th>47</th>\n",
       "      <td>NaN</td>\n",
       "      <td>By Race/Hispanic ethnicity</td>\n",
       "      <td>NaN</td>\n",
       "      <td>hispanic</td>\n",
       "      <td>NaN</td>\n",
       "      <td>NaN</td>\n",
       "      <td>NaN</td>\n",
       "      <td>NaT</td>\n",
       "      <td>NaT</td>\n",
       "      <td>38.333333</td>\n",
       "      <td>36.066667</td>\n",
       "      <td>40.633333</td>\n",
       "      <td>1438.0</td>\n",
       "      <td>7846.0</td>\n",
       "      <td>232992.0</td>\n",
       "      <td>NaN</td>\n",
       "      <td>NaN</td>\n",
       "      <td>2021-01</td>\n",
       "    </tr>\n",
       "    <tr>\n",
       "      <th>48</th>\n",
       "      <td>NaN</td>\n",
       "      <td>By Race/Hispanic ethnicity</td>\n",
       "      <td>NaN</td>\n",
       "      <td>other</td>\n",
       "      <td>NaN</td>\n",
       "      <td>NaN</td>\n",
       "      <td>NaN</td>\n",
       "      <td>NaT</td>\n",
       "      <td>NaT</td>\n",
       "      <td>40.833333</td>\n",
       "      <td>36.966667</td>\n",
       "      <td>44.783333</td>\n",
       "      <td>781.0</td>\n",
       "      <td>7793.0</td>\n",
       "      <td>215290.0</td>\n",
       "      <td>NaN</td>\n",
       "      <td>NaN</td>\n",
       "      <td>2021-01</td>\n",
       "    </tr>\n",
       "    <tr>\n",
       "      <th>49</th>\n",
       "      <td>NaN</td>\n",
       "      <td>By Race/Hispanic ethnicity</td>\n",
       "      <td>NaN</td>\n",
       "      <td>white</td>\n",
       "      <td>NaN</td>\n",
       "      <td>NaN</td>\n",
       "      <td>NaN</td>\n",
       "      <td>NaT</td>\n",
       "      <td>NaT</td>\n",
       "      <td>34.233333</td>\n",
       "      <td>33.416667</td>\n",
       "      <td>35.050000</td>\n",
       "      <td>20246.0</td>\n",
       "      <td>65578.0</td>\n",
       "      <td>1519289.0</td>\n",
       "      <td>NaN</td>\n",
       "      <td>NaN</td>\n",
       "      <td>2021-01</td>\n",
       "    </tr>\n",
       "    <tr>\n",
       "      <th>50</th>\n",
       "      <td>NaN</td>\n",
       "      <td>By Race/Hispanic ethnicity</td>\n",
       "      <td>NaN</td>\n",
       "      <td>asian</td>\n",
       "      <td>NaN</td>\n",
       "      <td>NaN</td>\n",
       "      <td>NaN</td>\n",
       "      <td>NaT</td>\n",
       "      <td>NaT</td>\n",
       "      <td>29.900000</td>\n",
       "      <td>26.916667</td>\n",
       "      <td>33.083333</td>\n",
       "      <td>213.0</td>\n",
       "      <td>2028.0</td>\n",
       "      <td>38255.0</td>\n",
       "      <td>NaN</td>\n",
       "      <td>NaN</td>\n",
       "      <td>2021-02</td>\n",
       "    </tr>\n",
       "    <tr>\n",
       "      <th>51</th>\n",
       "      <td>NaN</td>\n",
       "      <td>By Race/Hispanic ethnicity</td>\n",
       "      <td>NaN</td>\n",
       "      <td>black</td>\n",
       "      <td>NaN</td>\n",
       "      <td>NaN</td>\n",
       "      <td>NaN</td>\n",
       "      <td>NaT</td>\n",
       "      <td>NaT</td>\n",
       "      <td>36.083333</td>\n",
       "      <td>33.766667</td>\n",
       "      <td>38.466667</td>\n",
       "      <td>396.0</td>\n",
       "      <td>7106.0</td>\n",
       "      <td>117802.0</td>\n",
       "      <td>NaN</td>\n",
       "      <td>NaN</td>\n",
       "      <td>2021-02</td>\n",
       "    </tr>\n",
       "    <tr>\n",
       "      <th>52</th>\n",
       "      <td>NaN</td>\n",
       "      <td>By Race/Hispanic ethnicity</td>\n",
       "      <td>NaN</td>\n",
       "      <td>hispanic</td>\n",
       "      <td>NaN</td>\n",
       "      <td>NaN</td>\n",
       "      <td>NaN</td>\n",
       "      <td>NaT</td>\n",
       "      <td>NaT</td>\n",
       "      <td>37.133333</td>\n",
       "      <td>34.850000</td>\n",
       "      <td>39.500000</td>\n",
       "      <td>359.0</td>\n",
       "      <td>2932.0</td>\n",
       "      <td>104365.0</td>\n",
       "      <td>NaN</td>\n",
       "      <td>NaN</td>\n",
       "      <td>2021-02</td>\n",
       "    </tr>\n",
       "    <tr>\n",
       "      <th>53</th>\n",
       "      <td>NaN</td>\n",
       "      <td>By Race/Hispanic ethnicity</td>\n",
       "      <td>NaN</td>\n",
       "      <td>other</td>\n",
       "      <td>NaN</td>\n",
       "      <td>NaN</td>\n",
       "      <td>NaN</td>\n",
       "      <td>NaT</td>\n",
       "      <td>NaT</td>\n",
       "      <td>40.483333</td>\n",
       "      <td>37.233333</td>\n",
       "      <td>43.733333</td>\n",
       "      <td>84.0</td>\n",
       "      <td>2676.0</td>\n",
       "      <td>62717.0</td>\n",
       "      <td>NaN</td>\n",
       "      <td>NaN</td>\n",
       "      <td>2021-02</td>\n",
       "    </tr>\n",
       "    <tr>\n",
       "      <th>54</th>\n",
       "      <td>NaN</td>\n",
       "      <td>By Race/Hispanic ethnicity</td>\n",
       "      <td>NaN</td>\n",
       "      <td>white</td>\n",
       "      <td>NaN</td>\n",
       "      <td>NaN</td>\n",
       "      <td>NaN</td>\n",
       "      <td>NaT</td>\n",
       "      <td>NaT</td>\n",
       "      <td>32.116667</td>\n",
       "      <td>31.316667</td>\n",
       "      <td>32.966667</td>\n",
       "      <td>3098.0</td>\n",
       "      <td>23791.0</td>\n",
       "      <td>608232.0</td>\n",
       "      <td>NaN</td>\n",
       "      <td>NaN</td>\n",
       "      <td>2021-02</td>\n",
       "    </tr>\n",
       "  </tbody>\n",
       "</table>\n",
       "</div>"
      ],
      "text/plain": [
       "   Indicator                       Group state  Subgroup Phase  period  \\\n",
       "0        NaN  By Race/Hispanic ethnicity   NaN     asian   NaN     NaN   \n",
       "1        NaN  By Race/Hispanic ethnicity   NaN     black   NaN     NaN   \n",
       "2        NaN  By Race/Hispanic ethnicity   NaN  hispanic   NaN     NaN   \n",
       "3        NaN  By Race/Hispanic ethnicity   NaN     other   NaN     NaN   \n",
       "4        NaN  By Race/Hispanic ethnicity   NaN     white   NaN     NaN   \n",
       "5        NaN  By Race/Hispanic ethnicity   NaN     asian   NaN     NaN   \n",
       "6        NaN  By Race/Hispanic ethnicity   NaN     black   NaN     NaN   \n",
       "7        NaN  By Race/Hispanic ethnicity   NaN  hispanic   NaN     NaN   \n",
       "8        NaN  By Race/Hispanic ethnicity   NaN     other   NaN     NaN   \n",
       "9        NaN  By Race/Hispanic ethnicity   NaN     white   NaN     NaN   \n",
       "10       NaN  By Race/Hispanic ethnicity   NaN     asian   NaN     NaN   \n",
       "11       NaN  By Race/Hispanic ethnicity   NaN     black   NaN     NaN   \n",
       "12       NaN  By Race/Hispanic ethnicity   NaN  hispanic   NaN     NaN   \n",
       "13       NaN  By Race/Hispanic ethnicity   NaN     other   NaN     NaN   \n",
       "14       NaN  By Race/Hispanic ethnicity   NaN     white   NaN     NaN   \n",
       "15       NaN  By Race/Hispanic ethnicity   NaN     asian   NaN     NaN   \n",
       "16       NaN  By Race/Hispanic ethnicity   NaN     black   NaN     NaN   \n",
       "17       NaN  By Race/Hispanic ethnicity   NaN  hispanic   NaN     NaN   \n",
       "18       NaN  By Race/Hispanic ethnicity   NaN     other   NaN     NaN   \n",
       "19       NaN  By Race/Hispanic ethnicity   NaN     white   NaN     NaN   \n",
       "20       NaN  By Race/Hispanic ethnicity   NaN     asian   NaN     NaN   \n",
       "21       NaN  By Race/Hispanic ethnicity   NaN     black   NaN     NaN   \n",
       "22       NaN  By Race/Hispanic ethnicity   NaN  hispanic   NaN     NaN   \n",
       "23       NaN  By Race/Hispanic ethnicity   NaN     other   NaN     NaN   \n",
       "24       NaN  By Race/Hispanic ethnicity   NaN     white   NaN     NaN   \n",
       "25       NaN  By Race/Hispanic ethnicity   NaN     asian   NaN     NaN   \n",
       "26       NaN  By Race/Hispanic ethnicity   NaN     black   NaN     NaN   \n",
       "27       NaN  By Race/Hispanic ethnicity   NaN  hispanic   NaN     NaN   \n",
       "28       NaN  By Race/Hispanic ethnicity   NaN     other   NaN     NaN   \n",
       "29       NaN  By Race/Hispanic ethnicity   NaN     white   NaN     NaN   \n",
       "30       NaN  By Race/Hispanic ethnicity   NaN     asian   NaN     NaN   \n",
       "31       NaN  By Race/Hispanic ethnicity   NaN     black   NaN     NaN   \n",
       "32       NaN  By Race/Hispanic ethnicity   NaN  hispanic   NaN     NaN   \n",
       "33       NaN  By Race/Hispanic ethnicity   NaN     other   NaN     NaN   \n",
       "34       NaN  By Race/Hispanic ethnicity   NaN     white   NaN     NaN   \n",
       "35       NaN  By Race/Hispanic ethnicity   NaN     asian   NaN     NaN   \n",
       "36       NaN  By Race/Hispanic ethnicity   NaN     black   NaN     NaN   \n",
       "37       NaN  By Race/Hispanic ethnicity   NaN  hispanic   NaN     NaN   \n",
       "38       NaN  By Race/Hispanic ethnicity   NaN     other   NaN     NaN   \n",
       "39       NaN  By Race/Hispanic ethnicity   NaN     white   NaN     NaN   \n",
       "40       NaN  By Race/Hispanic ethnicity   NaN     asian   NaN     NaN   \n",
       "41       NaN  By Race/Hispanic ethnicity   NaN     black   NaN     NaN   \n",
       "42       NaN  By Race/Hispanic ethnicity   NaN  hispanic   NaN     NaN   \n",
       "43       NaN  By Race/Hispanic ethnicity   NaN     other   NaN     NaN   \n",
       "44       NaN  By Race/Hispanic ethnicity   NaN     white   NaN     NaN   \n",
       "45       NaN  By Race/Hispanic ethnicity   NaN     asian   NaN     NaN   \n",
       "46       NaN  By Race/Hispanic ethnicity   NaN     black   NaN     NaN   \n",
       "47       NaN  By Race/Hispanic ethnicity   NaN  hispanic   NaN     NaN   \n",
       "48       NaN  By Race/Hispanic ethnicity   NaN     other   NaN     NaN   \n",
       "49       NaN  By Race/Hispanic ethnicity   NaN     white   NaN     NaN   \n",
       "50       NaN  By Race/Hispanic ethnicity   NaN     asian   NaN     NaN   \n",
       "51       NaN  By Race/Hispanic ethnicity   NaN     black   NaN     NaN   \n",
       "52       NaN  By Race/Hispanic ethnicity   NaN  hispanic   NaN     NaN   \n",
       "53       NaN  By Race/Hispanic ethnicity   NaN     other   NaN     NaN   \n",
       "54       NaN  By Race/Hispanic ethnicity   NaN     white   NaN     NaN   \n",
       "\n",
       "   Time Period Label time_start time_end      Value     Low CI    High CI  \\\n",
       "0                NaN        NaT      NaT  27.266667  24.133333  30.533333   \n",
       "1                NaN        NaT      NaT  32.433333  30.133333  34.800000   \n",
       "2                NaN        NaT      NaT  36.133333  33.300000  39.000000   \n",
       "3                NaN        NaT      NaT  36.800000  32.966667  40.800000   \n",
       "4                NaN        NaT      NaT  28.000000  27.166667  28.800000   \n",
       "5                NaN        NaT      NaT  25.341667  22.225000  28.725000   \n",
       "6                NaN        NaT      NaT  32.908333  30.216667  35.700000   \n",
       "7                NaN        NaT      NaT  34.458333  31.716667  37.266667   \n",
       "8                NaN        NaT      NaT  38.283333  34.241667  42.475000   \n",
       "9                NaN        NaT      NaT  27.633333  26.766667  28.491667   \n",
       "10               NaN        NaT      NaT  24.733333  21.316667  28.400000   \n",
       "11               NaN        NaT      NaT  34.616667  32.158333  37.141667   \n",
       "12               NaN        NaT      NaT  35.491667  32.983333  38.083333   \n",
       "13               NaN        NaT      NaT  40.608333  36.616667  44.675000   \n",
       "14               NaN        NaT      NaT  29.675000  28.783333  30.600000   \n",
       "15               NaN        NaT      NaT  32.266667  28.444444  36.255556   \n",
       "16               NaN        NaT      NaT  36.066667  33.788889  38.366667   \n",
       "17               NaN        NaT      NaT  38.677778  36.166667  41.200000   \n",
       "18               NaN        NaT      NaT  42.855556  39.044444  46.722222   \n",
       "19               NaN        NaT      NaT  32.888889  32.033333  33.766667   \n",
       "20               NaN        NaT      NaT  25.466667  23.333333  27.700000   \n",
       "21               NaN        NaT      NaT  31.566667  29.566667  33.633333   \n",
       "22               NaN        NaT      NaT  34.000000  32.033333  35.966667   \n",
       "23               NaN        NaT      NaT  36.833333  34.066667  39.733333   \n",
       "24               NaN        NaT      NaT  29.933333  29.333333  30.500000   \n",
       "25               NaN        NaT      NaT  24.016667  21.783333  26.333333   \n",
       "26               NaN        NaT      NaT  32.550000  30.533333  34.600000   \n",
       "27               NaN        NaT      NaT  36.783333  34.716667  38.866667   \n",
       "28               NaN        NaT      NaT  39.450000  36.200000  42.766667   \n",
       "29               NaN        NaT      NaT  29.650000  28.983333  30.316667   \n",
       "30               NaN        NaT      NaT  26.600000  23.983333  29.300000   \n",
       "31               NaN        NaT      NaT  33.750000  31.700000  35.833333   \n",
       "32               NaN        NaT      NaT  36.816667  34.400000  39.266667   \n",
       "33               NaN        NaT      NaT  40.566667  37.016667  44.150000   \n",
       "34               NaN        NaT      NaT  30.450000  29.733333  31.150000   \n",
       "35               NaN        NaT      NaT  27.533333  24.266667  31.000000   \n",
       "36               NaN        NaT      NaT  38.250000  35.233333  41.366667   \n",
       "37               NaN        NaT      NaT  41.033333  38.333333  43.750000   \n",
       "38               NaN        NaT      NaT  43.766667  39.650000  47.950000   \n",
       "39               NaN        NaT      NaT  34.033333  33.166667  34.850000   \n",
       "40               NaN        NaT      NaT  29.000000  25.816667  32.350000   \n",
       "41               NaN        NaT      NaT  39.316667  36.816667  41.883333   \n",
       "42               NaN        NaT      NaT  40.333333  37.850000  42.783333   \n",
       "43               NaN        NaT      NaT  43.383333  39.933333  46.866667   \n",
       "44               NaN        NaT      NaT  34.483333  33.683333  35.283333   \n",
       "45               NaN        NaT      NaT  29.900000  26.833333  33.033333   \n",
       "46               NaN        NaT      NaT  36.950000  34.100000  39.916667   \n",
       "47               NaN        NaT      NaT  38.333333  36.066667  40.633333   \n",
       "48               NaN        NaT      NaT  40.833333  36.966667  44.783333   \n",
       "49               NaN        NaT      NaT  34.233333  33.416667  35.050000   \n",
       "50               NaN        NaT      NaT  29.900000  26.916667  33.083333   \n",
       "51               NaN        NaT      NaT  36.083333  33.766667  38.466667   \n",
       "52               NaN        NaT      NaT  37.133333  34.850000  39.500000   \n",
       "53               NaN        NaT      NaT  40.483333  37.233333  43.733333   \n",
       "54               NaN        NaT      NaT  32.116667  31.316667  32.966667   \n",
       "\n",
       "    new_deaths  hospitalized  new_positives  new_tests  percent_positive  \\\n",
       "0       1652.0        4743.0        17186.0        NaN               NaN   \n",
       "1       8072.0       25724.0        92026.0        NaN               NaN   \n",
       "2       2955.0       13394.0        75884.0        NaN               NaN   \n",
       "3       1493.0        5060.0        21946.0        NaN               NaN   \n",
       "4      26082.0       40638.0       168357.0        NaN               NaN   \n",
       "5        301.0        1421.0         9699.0        NaN               NaN   \n",
       "6       1333.0        9195.0        65556.0        NaN               NaN   \n",
       "7        651.0        5858.0        73340.0        NaN               NaN   \n",
       "8        255.0        1662.0        19763.0        NaN               NaN   \n",
       "9       8771.0       18074.0       133522.0        NaN               NaN   \n",
       "10       140.0        1083.0        10258.0        NaN               NaN   \n",
       "11       565.0        7075.0        73574.0        NaN               NaN   \n",
       "12       900.0        5765.0       101656.0        NaN               NaN   \n",
       "13        53.0        1561.0        25631.0        NaN               NaN   \n",
       "14      3855.0       16874.0       220727.0        NaN               NaN   \n",
       "15       286.0        1518.0        14552.0        NaN               NaN   \n",
       "16      1610.0       11808.0       136459.0        NaN               NaN   \n",
       "17      1730.0        7656.0       118640.0        NaN               NaN   \n",
       "18        33.0        2904.0        49693.0        NaN               NaN   \n",
       "19      8087.0       30124.0       392934.0        NaN               NaN   \n",
       "20       183.0         955.0        12379.0        NaN               NaN   \n",
       "21       558.0        6252.0        87135.0        NaN               NaN   \n",
       "22       927.0        2986.0        81048.0        NaN               NaN   \n",
       "23        23.0        1791.0        35853.0        NaN               NaN   \n",
       "24      5062.0       20343.0       329471.0        NaN               NaN   \n",
       "25        54.0         612.0        11626.0        NaN               NaN   \n",
       "26       154.0        3573.0        63497.0        NaN               NaN   \n",
       "27       291.0        1609.0        61495.0        NaN               NaN   \n",
       "28        35.0        1209.0        37385.0        NaN               NaN   \n",
       "29      3142.0       19419.0       414159.0        NaN               NaN   \n",
       "30        72.0        1070.0        21932.0        NaN               NaN   \n",
       "31       270.0        5817.0       100664.0        NaN               NaN   \n",
       "32       382.0        3248.0       116325.0        NaN               NaN   \n",
       "33       128.0        2129.0        68096.0        NaN               NaN   \n",
       "34      8747.0       38337.0       776011.0        NaN               NaN   \n",
       "35       497.0        3361.0        61412.0        NaN               NaN   \n",
       "36      1301.0       12004.0       181351.0        NaN               NaN   \n",
       "37       990.0        8066.0       200561.0        NaN               NaN   \n",
       "38       374.0        6087.0       140330.0        NaN               NaN   \n",
       "39     24000.0       75444.0      1541318.0        NaN               NaN   \n",
       "40      2213.0        6440.0       113405.0        NaN               NaN   \n",
       "41      2682.0       16153.0       278340.0        NaN               NaN   \n",
       "42      1842.0        9573.0       238611.0        NaN               NaN   \n",
       "43      1440.0        9661.0       259562.0        NaN               NaN   \n",
       "44     36732.0       89686.0      1900119.0        NaN               NaN   \n",
       "45      1477.0        5383.0       108151.0        NaN               NaN   \n",
       "46      2116.0       14834.0       289993.0        NaN               NaN   \n",
       "47      1438.0        7846.0       232992.0        NaN               NaN   \n",
       "48       781.0        7793.0       215290.0        NaN               NaN   \n",
       "49     20246.0       65578.0      1519289.0        NaN               NaN   \n",
       "50       213.0        2028.0        38255.0        NaN               NaN   \n",
       "51       396.0        7106.0       117802.0        NaN               NaN   \n",
       "52       359.0        2932.0       104365.0        NaN               NaN   \n",
       "53        84.0        2676.0        62717.0        NaN               NaN   \n",
       "54      3098.0       23791.0       608232.0        NaN               NaN   \n",
       "\n",
       "   case_month  \n",
       "0     2020-04  \n",
       "1     2020-04  \n",
       "2     2020-04  \n",
       "3     2020-04  \n",
       "4     2020-04  \n",
       "5     2020-05  \n",
       "6     2020-05  \n",
       "7     2020-05  \n",
       "8     2020-05  \n",
       "9     2020-05  \n",
       "10    2020-06  \n",
       "11    2020-06  \n",
       "12    2020-06  \n",
       "13    2020-06  \n",
       "14    2020-06  \n",
       "15    2020-07  \n",
       "16    2020-07  \n",
       "17    2020-07  \n",
       "18    2020-07  \n",
       "19    2020-07  \n",
       "20    2020-08  \n",
       "21    2020-08  \n",
       "22    2020-08  \n",
       "23    2020-08  \n",
       "24    2020-08  \n",
       "25    2020-09  \n",
       "26    2020-09  \n",
       "27    2020-09  \n",
       "28    2020-09  \n",
       "29    2020-09  \n",
       "30    2020-10  \n",
       "31    2020-10  \n",
       "32    2020-10  \n",
       "33    2020-10  \n",
       "34    2020-10  \n",
       "35    2020-11  \n",
       "36    2020-11  \n",
       "37    2020-11  \n",
       "38    2020-11  \n",
       "39    2020-11  \n",
       "40    2020-12  \n",
       "41    2020-12  \n",
       "42    2020-12  \n",
       "43    2020-12  \n",
       "44    2020-12  \n",
       "45    2021-01  \n",
       "46    2021-01  \n",
       "47    2021-01  \n",
       "48    2021-01  \n",
       "49    2021-01  \n",
       "50    2021-02  \n",
       "51    2021-02  \n",
       "52    2021-02  \n",
       "53    2021-02  \n",
       "54    2021-02  "
      ]
     },
     "execution_count": 89,
     "metadata": {},
     "output_type": "execute_result"
    }
   ],
   "source": [
    "multi_model_race = lr()\n",
    "final_data_race = final_data[final_data.Group == 'By Race/Hispanic ethnicity']\n",
    "final_data_race"
   ]
  },
  {
   "cell_type": "code",
   "execution_count": 90,
   "metadata": {},
   "outputs": [
    {
     "name": "stdout",
     "output_type": "stream",
     "text": [
      "The coefficient for new_deaths is -0.00025\n",
      "The coefficient for hospitalized is -0.00010\n",
      "The coefficient for new_positives is 0.00001\n",
      "The r-squared score of this multivariable linear regression model is 0.09\n"
     ]
    }
   ],
   "source": [
    "predictors = ['new_deaths', 'hospitalized', 'new_positives']\n",
    "multi_model_race.fit(X = final_data_race[predictors], y = final_data_race.Value)\n",
    "\n",
    "for featurenum in range(len(predictors)):\n",
    "    print('The coefficient for {} is {:.05f}'.format(predictors[featurenum],multi_model_race.coef_[featurenum]))\n",
    "print('The r-squared score of this multivariable linear regression model is {:.2f}'.format(multi_model_race.score(final_data_race[predictors], final_data_race.Value)))\n",
    "\n"
   ]
  },
  {
   "cell_type": "markdown",
   "metadata": {},
   "source": [
    "While I cannot graph the above multivariate regression, because it is in 4 dimensions, below is a two dimensional scatterplot with just total positive cases and mental health value colored by race for visualization. This plot allows us to see that the lack of correlation for some states, and the almost vertical line correlation for other states, which shows a tendency for a certain percent positive range and a range of mental health values at that rate, rather than a linear relationship between the two. Thus, it makes sense visually that we do not see a strong correlation coefficient in our multivariate model."
   ]
  },
  {
   "cell_type": "code",
   "execution_count": 91,
   "metadata": {},
   "outputs": [
    {
     "data": {
      "image/png": "[encoded data removed]",
      "text/plain": [
       "<Figure size 437.625x360 with 1 Axes>"
      ]
     },
     "metadata": {
      "needs_background": "light"
     },
     "output_type": "display_data"
    }
   ],
   "source": [
    "visual_model_race = lr().fit(final_data_race[ ['new_positives'] ], final_data_race['Value'])\n",
    "\n",
    "sns.relplot(x = 'new_positives', y = 'Value', data = final_data_race, hue = 'Subgroup');"
   ]
  },
  {
   "cell_type": "markdown",
   "metadata": {},
   "source": [
    "Interestingly, this graph seems to show little to no linear correlation within any race except for white. Because of this, I will do a multivariate linear regression model just on white individuals to see if there is a correlation. "
   ]
  },
  {
   "cell_type": "code",
   "execution_count": 101,
   "metadata": {},
   "outputs": [
    {
     "name": "stdout",
     "output_type": "stream",
     "text": [
      "The coefficient for new_deaths is -0.000259\n",
      "The coefficient for hospitalized is 0.000177\n",
      "The coefficient for new_positives is -2.47e-09\n",
      "The r-squared score of this multivariable linear regression model is 0.834\n"
     ]
    }
   ],
   "source": [
    "race_white = final_data_race[final_data_race.Subgroup == 'white']\n",
    "race_white_model = lr().fit(race_white[predictors], race_white['Value'])\n",
    "for featurenum in range(len(predictors)):\n",
    "    print('The coefficient for {} is {:.3}'.format(predictors[featurenum],race_white_model.coef_[featurenum]))\n",
    "print('The r-squared score of this multivariable linear regression model is {:.3f}'.format(race_white_model.score(race_white[predictors], race_white.Value)))\n"
   ]
  },
  {
   "cell_type": "markdown",
   "metadata": {},
   "source": [
    "While there is only an r-squared value of 0.09 for multivariate linear regression across races, there is an r-squared value of 0.834 for just white individuals. I will find the p-values using a hypothesis test to test the significance of these coefficients."
   ]
  },
  {
   "cell_type": "code",
   "execution_count": 102,
   "metadata": {},
   "outputs": [
    {
     "name": "stdout",
     "output_type": "stream",
     "text": [
      "P values:\n"
     ]
    },
    {
     "data": {
      "text/plain": [
       "Intercept    1.097430e-07\n",
       "x1[0]        1.502646e-01\n",
       "x1[1]        2.553903e-01\n",
       "x1[2]        9.994678e-01\n",
       "dtype: float64"
      ]
     },
     "metadata": {},
     "output_type": "display_data"
    },
    {
     "name": "stdout",
     "output_type": "stream",
     "text": [
      "Confidence Intervals:\n"
     ]
    },
    {
     "data": {
      "text/html": [
       "<div>\n",
       "<style scoped>\n",
       "    .dataframe tbody tr th:only-of-type {\n",
       "        vertical-align: middle;\n",
       "    }\n",
       "\n",
       "    .dataframe tbody tr th {\n",
       "        vertical-align: top;\n",
       "    }\n",
       "\n",
       "    .dataframe thead th {\n",
       "        text-align: right;\n",
       "    }\n",
       "</style>\n",
       "<table border=\"1\" class=\"dataframe\">\n",
       "  <thead>\n",
       "    <tr style=\"text-align: right;\">\n",
       "      <th></th>\n",
       "      <th>0</th>\n",
       "      <th>1</th>\n",
       "    </tr>\n",
       "  </thead>\n",
       "  <tbody>\n",
       "    <tr>\n",
       "      <th>Intercept</th>\n",
       "      <td>24.608763</td>\n",
       "      <td>30.613802</td>\n",
       "    </tr>\n",
       "    <tr>\n",
       "      <th>x1[0]</th>\n",
       "      <td>-0.000639</td>\n",
       "      <td>0.000120</td>\n",
       "    </tr>\n",
       "    <tr>\n",
       "      <th>x1[1]</th>\n",
       "      <td>-0.000161</td>\n",
       "      <td>0.000516</td>\n",
       "    </tr>\n",
       "    <tr>\n",
       "      <th>x1[2]</th>\n",
       "      <td>-0.000008</td>\n",
       "      <td>0.000008</td>\n",
       "    </tr>\n",
       "  </tbody>\n",
       "</table>\n",
       "</div>"
      ],
      "text/plain": [
       "                   0          1\n",
       "Intercept  24.608763  30.613802\n",
       "x1[0]      -0.000639   0.000120\n",
       "x1[1]      -0.000161   0.000516\n",
       "x1[2]      -0.000008   0.000008"
      ]
     },
     "metadata": {},
     "output_type": "display_data"
    }
   ],
   "source": [
    "x1 = race_white[predictors].reset_index(drop = True)\n",
    "y1 = race_white[['Value']].reset_index(drop = True)\n",
    "y_series1 = final_data_age.Value\n",
    "df1 = x1.join(y1)\n",
    "sm_model1 = smf.ols(\"y1 ~ x1\", data=df1)\n",
    "result1 = sm_model1.fit()\n",
    "print('P values:')\n",
    "display(result1.pvalues)"
   ]
  },
  {
   "cell_type": "markdown",
   "metadata": {},
   "source": [
    "The probability of getting a regression coefficient of -0.000259 for new_positives by random chance alone is 0.15. Since the p-value of 0.15 is NOT less than alpha = 0.05, we CANNOT reject the null hypothesis. There is sufficient evidence to conclude that our regression coefficient of new_positives could be due to random chance, and therefore the linear relationship between new_positives and mental health value in this model is not statistically significant.\n",
    "\n",
    "The probability of getting a regression coefficient between new deaths and mental health value of  0.000177 by random chance alone is 0.26. Since the p-value of 0.26 is NOT less than alpha = 0.05, we CANNOT reject the null hypothesis. There is sufficient evidence to conclude that our regression coefficient of new_deaths (3.26e-06) could be due to random chance, and therefore, the linear relationship between new_deaths and mental health value in this model is NOT statistically significant.\n",
    "\n",
    "The probability of getting a regression coefficient of -2.47 x $10^{-9}$ for hospitalizations by random chance alone is 0.999. Since the p-value of 0.999 is NOT less than alpha = 0.05, we CANNOT reject the null hypothesis. There is sufficient evidence to conclude that our regression coefficient of hospitalizations is due to random chance, and therefore, the linear relationship between hospitalizations and mental health value in this model is NOT statistically significant.\n",
    "\n",
    "Since none of the coefficients in the multivariate linear regression model are statistically significant, the model as a whole is not statistically significant."
   ]
  },
  {
   "cell_type": "markdown",
   "metadata": {},
   "source": [
    "### Linear Regression (mental health value vs. phase)\n"
   ]
  },
  {
   "cell_type": "code",
   "execution_count": 45,
   "metadata": {
    "scrolled": true
   },
   "outputs": [
    {
     "name": "stdout",
     "output_type": "stream",
     "text": [
      "r-squared score of linear regression model for phase and mental health value is 0.06\n"
     ]
    }
   ],
   "source": [
    "multi_model_time = lr()\n",
    "\n",
    "final_data_state.loc[final_data_state['Phase'] == '1', 'Phase'] = 1\n",
    "final_data_state.loc[final_data_state['Phase'] == '2', 'Phase'] = 2\n",
    "final_data_state.loc[final_data_state['Phase'] == '3 (Oct 28 � Dec 21)', 'Phase'] = 3\n",
    "final_data_state.loc[final_data_state['Phase'] == '3 (Jan 6 � Mar 1)', 'Phase'] = 4\n",
    "\n",
    "X = final_data_state[['Phase']]\n",
    "y =final_data_state.Value\n",
    "\n",
    "multi_model_time.fit(X, y)\n",
    "print('r-squared score of linear regression model for phase and mental health value is {:.2f}'\\\n",
    "      .format(multi_model_time.score(X,y)))"
   ]
  },
  {
   "cell_type": "markdown",
   "metadata": {},
   "source": [
    "Since the r-squared value of 0.06 does not show a linear relationship, I will not check the significance."
   ]
  },
  {
   "cell_type": "markdown",
   "metadata": {},
   "source": [
    "### K - Means Clustering "
   ]
  },
  {
   "cell_type": "code",
   "execution_count": 46,
   "metadata": {},
   "outputs": [
    {
     "data": {
      "text/html": [
       "<div>\n",
       "<style scoped>\n",
       "    .dataframe tbody tr th:only-of-type {\n",
       "        vertical-align: middle;\n",
       "    }\n",
       "\n",
       "    .dataframe tbody tr th {\n",
       "        vertical-align: top;\n",
       "    }\n",
       "\n",
       "    .dataframe thead th {\n",
       "        text-align: right;\n",
       "    }\n",
       "</style>\n",
       "<table border=\"1\" class=\"dataframe\">\n",
       "  <thead>\n",
       "    <tr style=\"text-align: right;\">\n",
       "      <th></th>\n",
       "      <th>state</th>\n",
       "      <th>percent_positive</th>\n",
       "      <th>Value</th>\n",
       "    </tr>\n",
       "  </thead>\n",
       "  <tbody>\n",
       "    <tr>\n",
       "      <th>0</th>\n",
       "      <td>Alabama</td>\n",
       "      <td>0.1326</td>\n",
       "      <td>37.2</td>\n",
       "    </tr>\n",
       "    <tr>\n",
       "      <th>1</th>\n",
       "      <td>Alaska</td>\n",
       "      <td>0.0337</td>\n",
       "      <td>35.5</td>\n",
       "    </tr>\n",
       "    <tr>\n",
       "      <th>2</th>\n",
       "      <td>Arizona</td>\n",
       "      <td>0.0415</td>\n",
       "      <td>39.3</td>\n",
       "    </tr>\n",
       "    <tr>\n",
       "      <th>3</th>\n",
       "      <td>Arkansas</td>\n",
       "      <td>0.0843</td>\n",
       "      <td>31.6</td>\n",
       "    </tr>\n",
       "    <tr>\n",
       "      <th>4</th>\n",
       "      <td>California</td>\n",
       "      <td>0.0291</td>\n",
       "      <td>42.3</td>\n",
       "    </tr>\n",
       "  </tbody>\n",
       "</table>\n",
       "</div>"
      ],
      "text/plain": [
       "        state  percent_positive  Value\n",
       "0     Alabama            0.1326   37.2\n",
       "1      Alaska            0.0337   35.5\n",
       "2     Arizona            0.0415   39.3\n",
       "3    Arkansas            0.0843   31.6\n",
       "4  California            0.0291   42.3"
      ]
     },
     "execution_count": 46,
     "metadata": {},
     "output_type": "execute_result"
    }
   ],
   "source": [
    "state_data = master_data[master_data.time_start == master_data.time_start[3190]]\n",
    "state_data = state_data[state_data.Indicator == 'Symptoms of Anxiety Disorder or Depressive Disorder']\n",
    "#The above 2 lines of code take 1 random time period (Sep 16 - Sep 28 2020) and 1 indicator so that each state only appears\n",
    "# once in state_data so that I can better interpret the clusters\n",
    "\n",
    "state_data = state_data[['state','percent_positive','Value']].copy().dropna().reset_index(drop = True)\n",
    "#subsets only the columns that I need and drops rows with NaNs\n",
    "\n",
    "state_data.head()"
   ]
  },
  {
   "cell_type": "code",
   "execution_count": 47,
   "metadata": {},
   "outputs": [
    {
     "data": {
      "image/png": "[encoded data removed]",
      "text/plain": [
       "<Figure size 432x288 with 1 Axes>"
      ]
     },
     "metadata": {
      "needs_background": "light"
     },
     "output_type": "display_data"
    }
   ],
   "source": [
    "K = range(2, 50) #There are 50 states, so I will find the silouette scores for all possible \n",
    "                 #   cluster numbers from 2 to 50 (it is not possible to find silouette score for 1 cluster)\n",
    "sil = []\n",
    "for k in K:\n",
    "    kmeans = KMeans(n_clusters=k)\n",
    "    kmeans.fit(state_data.drop(columns = ['state'])) \n",
    "    cluster_labels = kmeans.labels_\n",
    "\n",
    "    score = float(([silhouette_score(state_data[['percent_positive','Value']], cluster_labels)])[0])\n",
    "    sil.append(score)    \n",
    "    \n",
    "plt.plot(K, sil)\n",
    "plt.xlabel(\"Number of Clusters (k)\")\n",
    "plt.ylabel(\"silhouette score\")\n",
    "plt.show()"
   ]
  },
  {
   "cell_type": "code",
   "execution_count": 48,
   "metadata": {},
   "outputs": [
    {
     "data": {
      "image/png": "[encoded data removed]",
      "text/plain": [
       "<Figure size 432x288 with 1 Axes>"
      ]
     },
     "metadata": {
      "needs_background": "light"
     },
     "output_type": "display_data"
    }
   ],
   "source": [
    "#It is too hard to tell exactly where the maximum falls, so below I will plot a subset of the clusters/scores for a\n",
    "# more close up view\n",
    "\n",
    "plt.plot(K[6:14], sil[6:14])\n",
    "plt.xlabel(\"Number of Clusters (k)\")\n",
    "plt.ylabel(\"silhouette score\")\n",
    "plt.show()"
   ]
  },
  {
   "cell_type": "code",
   "execution_count": 49,
   "metadata": {},
   "outputs": [
    {
     "data": {
      "text/html": [
       "<div>\n",
       "<style scoped>\n",
       "    .dataframe tbody tr th:only-of-type {\n",
       "        vertical-align: middle;\n",
       "    }\n",
       "\n",
       "    .dataframe tbody tr th {\n",
       "        vertical-align: top;\n",
       "    }\n",
       "\n",
       "    .dataframe thead th {\n",
       "        text-align: right;\n",
       "    }\n",
       "</style>\n",
       "<table border=\"1\" class=\"dataframe\">\n",
       "  <thead>\n",
       "    <tr style=\"text-align: right;\">\n",
       "      <th></th>\n",
       "      <th>state</th>\n",
       "      <th>percent_positive</th>\n",
       "      <th>Value</th>\n",
       "      <th>cluster_label</th>\n",
       "    </tr>\n",
       "  </thead>\n",
       "  <tbody>\n",
       "    <tr>\n",
       "      <th>0</th>\n",
       "      <td>Alabama</td>\n",
       "      <td>0.1326</td>\n",
       "      <td>37.2</td>\n",
       "      <td>6</td>\n",
       "    </tr>\n",
       "    <tr>\n",
       "      <th>1</th>\n",
       "      <td>Alaska</td>\n",
       "      <td>0.0337</td>\n",
       "      <td>35.5</td>\n",
       "      <td>11</td>\n",
       "    </tr>\n",
       "    <tr>\n",
       "      <th>2</th>\n",
       "      <td>Arizona</td>\n",
       "      <td>0.0415</td>\n",
       "      <td>39.3</td>\n",
       "      <td>1</td>\n",
       "    </tr>\n",
       "    <tr>\n",
       "      <th>3</th>\n",
       "      <td>Arkansas</td>\n",
       "      <td>0.0843</td>\n",
       "      <td>31.6</td>\n",
       "      <td>4</td>\n",
       "    </tr>\n",
       "    <tr>\n",
       "      <th>4</th>\n",
       "      <td>California</td>\n",
       "      <td>0.0291</td>\n",
       "      <td>42.3</td>\n",
       "      <td>3</td>\n",
       "    </tr>\n",
       "  </tbody>\n",
       "</table>\n",
       "</div>"
      ],
      "text/plain": [
       "        state  percent_positive  Value  cluster_label\n",
       "0     Alabama            0.1326   37.2              6\n",
       "1      Alaska            0.0337   35.5             11\n",
       "2     Arizona            0.0415   39.3              1\n",
       "3    Arkansas            0.0843   31.6              4\n",
       "4  California            0.0291   42.3              3"
      ]
     },
     "execution_count": 49,
     "metadata": {},
     "output_type": "execute_result"
    }
   ],
   "source": [
    "#Since the maximum silouette score occurs when k = 12, the number of clusters that I will use is 12\n",
    "cluster_num = 12\n",
    "\n",
    "kmeans = KMeans(n_clusters=cluster_num) # clustering object\n",
    "kmeans.fit(state_data.drop(columns = ['state']))                 # fit to data\n",
    "y_kmeans = kmeans.predict(state_data.drop(columns = ['state']))  # predict cluster labels\n",
    "\n",
    "cluster_labels = kmeans.labels_\n",
    "state_data['cluster_label'] = cluster_labels # creates column that shows clusterlabel for each state\n",
    "\n",
    "state_data.head()"
   ]
  },
  {
   "cell_type": "code",
   "execution_count": 50,
   "metadata": {},
   "outputs": [
    {
     "data": {
      "image/png": "[encoded data removed]",
      "text/plain": [
       "<Figure size 474.875x360 with 1 Axes>"
      ]
     },
     "metadata": {
      "needs_background": "light"
     },
     "output_type": "display_data"
    }
   ],
   "source": [
    "sns.relplot(x=\"percent_positive\", y=\"Value\", data=state_data, hue = 'cluster_label', style = 'state',legend = 'full', alpha = 0.6, s = 100);"
   ]
  },
  {
   "cell_type": "code",
   "execution_count": 51,
   "metadata": {
    "scrolled": true
   },
   "outputs": [
    {
     "name": "stdout",
     "output_type": "stream",
     "text": [
      "Cluster 1 contains:\n",
      "['Iowa' 'Oklahoma' 'Pennsylvania']\n",
      "\n",
      "Cluster 2 contains:\n",
      "['Arizona' 'Kentucky' 'Texas' 'Washington' 'West Virginia']\n",
      "\n",
      "Cluster 3 contains:\n",
      "['Delaware' 'North Dakota' 'South Dakota']\n",
      "\n",
      "Cluster 4 contains:\n",
      "['California' 'Nevada' 'New Mexico']\n",
      "\n",
      "Cluster 5 contains:\n",
      "['Arkansas' 'New Hampshire' 'North Carolina']\n",
      "\n",
      "Cluster 6 contains:\n",
      "['Colorado' 'Massachusetts' 'Mississippi' 'Montana' 'New Jersey'\n",
      " 'Rhode Island' 'Utah']\n",
      "\n",
      "Cluster 7 contains:\n",
      "['Alabama' 'Florida' 'Illinois' 'Indiana' 'New York' 'Ohio' 'Vermont'\n",
      " 'Virginia']\n",
      "\n",
      "Cluster 8 contains:\n",
      "['Oregon']\n",
      "\n",
      "Cluster 9 contains:\n",
      "['Connecticut' 'Hawaii' 'Idaho' 'Maine' 'Michigan' 'Missouri' 'Wyoming']\n",
      "\n",
      "Cluster 10 contains:\n",
      "['Minnesota' 'Nebraska' 'Wisconsin']\n",
      "\n",
      "Cluster 11 contains:\n",
      "['Louisiana']\n",
      "\n",
      "Cluster 12 contains:\n",
      "['Alaska' 'Georgia' 'Kansas' 'Maryland' 'South Carolina' 'Tennessee']\n",
      "\n"
     ]
    }
   ],
   "source": [
    "#the following loop will print which states are part of which clusters\n",
    "for x in range(cluster_num):\n",
    "    print('Cluster {} contains:'.format(x+1))\n",
    "    print(state_data[state_data.cluster_label == x].state.unique())\n",
    "    print()"
   ]
  },
  {
   "cell_type": "markdown",
   "metadata": {},
   "source": [
    "I will now evaluate the significance of this k - means clustering model using a sillouette score."
   ]
  },
  {
   "cell_type": "code",
   "execution_count": 52,
   "metadata": {},
   "outputs": [
    {
     "name": "stdout",
     "output_type": "stream",
     "text": [
      "The silhouette_score of this k - means clustering model is 0.667\n"
     ]
    }
   ],
   "source": [
    "silhouette_score_all = [silhouette_score(state_data[['percent_positive','Value']], cluster_labels)]\n",
    "print('The silhouette_score of this k - means clustering model is {:.3f}'.format(silhouette_score_all[0]))"
   ]
  },
  {
   "cell_type": "markdown",
   "metadata": {},
   "source": [
    "Since silhouette score ranges from -1 to 1, a silhouette score of 0.667 represents a reasonably strong structure of clusters. I can then conclude that my k - means clustering results are significant."
   ]
  },
  {
   "cell_type": "markdown",
   "metadata": {},
   "source": [
    "## Interpretation and Conclusions"
   ]
  },
  {
   "cell_type": "markdown",
   "metadata": {},
   "source": [
    "Interestingly, there seems to be practically no linear correlation between covid cases/hospitalizations/deaths and anxiety/depression within the population as a whole or when state is used as indicator variables in a multivariate regression model. This surprises me to a certain extent because since different states took different approaches to the pandemic and restrictions, I thought that there may be underlying differences in base level mental health values or covid trends that was causing the lack of obvious correlation, but that grouping by state may show more correlation. For example, I found it interesting to note that in the final boxplot of my exploratory data analysis, the so-called \"problem states\" (FL, CA, NY) have higher median levels of anxiety and depression than the others. However, using state as an indicator variable results in an r squared value of 0.05, showing that this multivariate linear regression is not significant. One potential reason for the lack of significance is the contrast between the lack of Covid-19 testing and data in the early months of the pandemic and the prevalence of surveillance testing in more recent months. This could skew the data by increasing the percentage of Covid-19 cases accounted for with each subsequent month and mask potentially existing linear relationships.\n",
    "\n",
    "When fitting a multivariate linear regression model on covid cases/hospitalizations/deaths/race to mental health value, the low correlation coefficient of 0.09 suggests the lack of a linear correlation. What was interesting, however, was that there was a moderate linear relationship when only white individuals were considered. However, this linear regression ended up being NOT statistically significant. While this is slightly surprising, given that there are lots of studies and data showing that different races are affecting differently (ex. black populations affected worse than white ones), there are lots of other factors that have a role in this such as socioeconomic status, culture, and location. There will be differences between an individual living in a wealthy neighborhood versus poor communal housing, regardless of race. I think that the differences in covid numbers between races may have to do with these other effects that differ between races rather than the races themselves which is why there was such a low correlation. Additionally, there were other major historical events besides the pandemic in 2020 that would play a role in mental health. The racial justice movement and events such as the death of George Floyd affected different races differently, and also were not directly tied to Covid-19, so it makes sense that factors like this would affect the linearity of the data.\n",
    "\n",
    "From preliminary data analysis, it appears that there may be an upward trend in anxiety and depression rates as the pandemic progresses through the different phases. This suggested that it might be the chronic effects of life and restrictions in a pandemic that causes increased rates of anxiety and depression rather than the acute affects of the actual virus itself. However, the correlation coefficient of this linear regression model is 0.06 which does not demonstrate a linear relationship. Thus, we cannot conclude that the longevity of quarentine can be used to predict mental health. This still makes logical sense as an explanation, which makes me think that there may be underlying factors affecting the data and its linearity. One such factor could be the difference in anxiety and depression. One way that this project could be expanded is to analyze anxiety and depression separately. Logically, it would make sense if they followed different trajectories. For example, anxiety may increase as cases increase and decrease as cases decrease, but depression may increase steadily with time, independent of rising and falling cases.\n",
    "\n",
    "Interestingly, as is seen in the three different plots that graph either covid cases, hospitalizations, or deaths with mental health value, it appears that the best model of the data comes from creating two separate linear regression models for each age group because each age group has a distinct slope. In general anxiety and depression is worse in younger generations no matter the covid levels. It surprises me that increases in covid numbers tends to increase anxiety/depression more strongly/quickly for the younger age group than the old, since older people are more vulnerable to the covid-19 virus. One reason for this could be mental health stigma that is more prominent in older generations, and another reason could be that anxiety and depression rates in non-covid times are already higher for younger generations.\n",
    "\n",
    "The most significant finding was the strong correlation ($r^2$ = 0.98) between covid cases/hospitalizations/deaths and anxiety/depression rates when age group (18-49 or 50+) was taken into account in our multivariate linear regression model. This makes sense because covid affects different age groups differently, and the restrictions also affect the daily lives of the different age groups differently. For example, older people are more susceptible to serious illness or death from the coronavirus, and younger people have a greater disruption to their daily lives because they are working and going to school, etc rather than retired. This finding can be used to divert more mental health resources to individuals under the age of 50 when cases start to rise, and to prioritize speed when diverting these resources since the younger people's anxiety and depression rates tend to increase more quickly for the same increase in cases. Since the significance test showed that new positive cases were the only Covid-19 metric that showed significance when predicting mental health, it would make sense to send mental health resources to younger Americans as soon as cases begin to rise, regardless of hospitalizations and deaths. This is interesting, because it suggests that it is the virus's presence rather than deadliness that affects mental health the most. \n",
    "\n",
    "Interestingly, the most significant model was the k -means clustering model that placed states into 12 clusters. From looking at these clusters, it doesn't seem that there is any obvious relationship within each cluster such as geographic location, political affiliation, or population, however my silhouette score suggests that there is indeed significance. An interesting extension of the project would be to analyze factors within each state, perhaps by looking at aspects of the healthcare systems, demographic makeup of the states, or other aspects. Similarly to what I discussed in response to the race data, it could be interesting to analyze how each state was affected by the racial justice movement and see if that plays a role in the clusters since that was another major influence on mental health in the past year for certain groups.\n",
    "\n",
    "Another way this project could be expanded is to compare the trends and associations between infection/death/hospitalization rate between the Covid-19 pandemic, and other contagious diseases, including epidemics. This would be useful since we are now nearing the end of the pandemic, and so these results will be less useful as the coronavirus goes away. If we can establish associations with other viruses, or even the common flu, we may be able to generalize the findings to better predict mental health values in future circumstances since it is unlikely that there will be another Covid-19 pandemic.\n",
    "\n",
    "Finally, the findings of this project could also be expanded upon by adding vaccination data to the dataset. This would allow us to see whether weeks/months of high vaccination rates positively impacted mental health or helped compensate for the negative effects of the cases/hospitalizations/deaths in that time period."
   ]
  },
  {
   "cell_type": "markdown",
   "metadata": {},
   "source": [
    "## Limitations"
   ]
  },
  {
   "cell_type": "markdown",
   "metadata": {},
   "source": [
    "Possible limitations include the following:\n",
    "- Covid data was very limited in the early months of the pandemic. It is highly likely (almost certain) that there were many cases that went unknown, and therefore are not counted in the data. Also, as the pandemic progressed, surveillence testing became more common to catch more cases. Missing or incorrect Covid-19 data, especially early in the pandemic, could conceal linear trends that would exist if the data were close to perfect. This could therefore contribute to the lack of correlation in several linear regression models. \n",
    "- Some people are asymptomatic upon contraction of the coronavirus. If they were asymptomatic, they may not have been tested, and their case would not be included in our numbers. Similar to the previous limitation, these missing cases could conceal linear trends that would exist if the data were close to perfect and contribute to the lack of correlation in several linear regression models. \n",
    "- For the mental health data, individuals scored themselves on subjective feelings of anxiety and depression, rather than clinical diagnoses or other more objective markers. Also, the anxiety and depression were only rated on a scale of 1 - 3 while there is likely a much greater degree of variability in mental health that cannot be captured by just 3 groups. This can affect the overall accuracy of the mental health values and contribute to the lack of linear correlation in our models, even if linear correlations exist. Linear regression models are not robust, so the accumulation of many small biases in mental health value, could severely affect the data.\n",
    "- The time period groupings for the mental health data set are not even time periods. For example, some of the time periods are 13 days, while others are 6. There are also some missing weeks and days throughout. This also means that of the time periods in the covid data, some are 13 days, while other are 1 day, if they did not correspond to a time period from the mental health data. This could mask fluctuations within some of the longer time periods and overemphasize fluctuations or changes in the smaller ones, leading to less reliable data.\n",
    "- The Covid data is compiled from each state's reports, and each state uses slightly different definitions, there is opportunity for some discrepancy between states as to what they count as a positive or probable covid case, etc. Since there is no single entity that collects and gathers all of the data, there could be discrepancies between health districts that lead to biases in the data. For example, some districts count all possible or probable cases, while others include only PCR positive tests. This could mask relationships between coronavirus rates and mental health because some of the data will be an overestimation of the true covid rates and some data will be an underestimation. \n",
    "- There are different methods of Covid-19 testing with some being more reliable than others. Differences in the type of tests could lead to errors in results. For example, there are more false positives with rapid tests (which identify the coronavirus protein) than polymerase chain reaction tests (which identify the viruses genetic material). This could lead to districts who counted rapid tests to overreport the true level of cases in their district. \n",
    "- For some geographic or demographic regions there may be more access to Covid tests than others. For example, if certain racial groups tend to have lower socioeconomic status, they may also have less access to testing. This could lead to under reported results for these groups which could skew the data and predict less covid cases to cause an increase in anxiety and depression compared to other groups which could lead the government and mental health authorities to send more resources than are actually needed.\n",
    "- Because the age groups were divided slightly differently between the demographic data and the mental health data, I had to divide individuals into only two age groups rather than more. This could fail to account for differences within generations in each age group.\n",
    "- The race data places people of mixed race in the \"other\" category rather than in the category of either of their respective races. This means people of mixed race are unaccounted for in both of the races that they actually are, and it makes the \"other\" category less reliable because in addition to containing individuals that are not white, black, asian, or hispanic, it also includes individuals who are white, black, Asian, and hispanic, just not fully so. \n",
    "- Despite a global pandemic, there were other significant events and movements that could affect mental health values over the past year. This includes responses to the racial justice movement and the political unrest and presidential election."
   ]
  },
  {
   "cell_type": "markdown",
   "metadata": {},
   "source": [
    "## Source Code"
   ]
  },
  {
   "cell_type": "markdown",
   "metadata": {},
   "source": [
    "Link Google drive folder with original datasets, previous project phases/code, and data cleaning appendix: \n",
    "https://drive.google.com/drive/folders/1UHw36IxETj85N22IAJNDpTHCmmex_bnn?usp=sharing"
   ]
  },
  {
   "cell_type": "markdown",
   "metadata": {},
   "source": [
    "## Acknowledgements"
   ]
  },
  {
   "cell_type": "markdown",
   "metadata": {},
   "source": [
    "Incorporated some modified code from class code and homeworks on linear and multivariate linear regression, hypothesis testing, and k-means clustering. Thank you to Profesor Wilkens and INFO 2950 TA's, specifically Rachel Spivak, Emma Condie, Vishal Vardhineedi, Chris Browne, and Daniel Riley for guiding me on my questions regarding my data cleaning, analysis, and significance. Thank you to the following individuals for providing useful feedback throughout different parts of the project: Sebastian Jie Guo, William Jeffries. I utilized the following stack overflow post to learn how to open a json jupyter to use in my pandas data frame (https://stackoverflow.com/questions/50653973/how-to-load-a-json-file-in-jupyter-notebook-using-pandas/50654276). I used the following stack overflow post to learn how to reverse the order of a dataframe (https://stackoverflow.com/questions/20444087/right-way-to-reverse-a-pandas-dataframe). I also referenced stack overflow for a handful of debugging issues throughout the project."
   ]
  }
 ],
 "metadata": {
  "kernelspec": {
   "display_name": "Python 3",
   "language": "python",
   "name": "python3"
  },
  "language_info": {
   "codemirror_mode": {
    "name": "ipython",
    "version": 3
   },
   "file_extension": ".py",
   "mimetype": "text/x-python",
   "name": "python",
   "nbconvert_exporter": "python",
   "pygments_lexer": "ipython3",
   "version": "3.8.5"
  }
 },
 "nbformat": 4,
 "nbformat_minor": 5
}
